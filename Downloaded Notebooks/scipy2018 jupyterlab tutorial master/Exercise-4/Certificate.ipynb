{
 "cells": [
  {
   "cell_type": "code",
   "execution_count": null,
   "metadata": {},
   "outputs": [],
   "source": [
    "class Certificate:\n",
    "    def __init__(self, data):\n",
    "        self.data = data\n",
    "    def _repr_mimebundle_(self, include, exclude, **kwargs):\n",
    "        data = {\n",
    "            'application/vnd.jupyterlab.certificate': self.data,\n",
    "            'text/plain': 'Certificate for JupyterLab given to %s at %s'%(self.data['given'], self.data['event'])\n",
    "        }\n",
    "        if include:\n",
    "            data = {k:v for (k,v) in data.items() if k in include}\n",
    "        if exclude:\n",
    "            data = {k:v for (k,v) in data.items() if k not in exclude}\n",
    "        return data\n"
   ]
  },
  {
   "cell_type": "code",
   "execution_count": null,
   "metadata": {},
   "outputs": [],
   "source": [
    "Certificate({'given': 'My Name', 'event': 'My Event'})"
   ]
  },
  {
   "cell_type": "code",
   "execution_count": null,
   "metadata": {},
   "outputs": [],
   "source": []
  }
 ],
 "metadata": {
  "kernelspec": {
   "display_name": "Python 3",
   "language": "python",
   "name": "python3"
  },
  "language_info": {
   "codemirror_mode": {
    "name": "ipython",
    "version": 3
   },
   "file_extension": ".py",
   "mimetype": "text/x-python",
   "name": "python",
   "nbconvert_exporter": "python",
   "pygments_lexer": "ipython3",
   "version": "3.6.3"
  }
 },
 "nbformat": 4,
 "nbformat_minor": 2
}
