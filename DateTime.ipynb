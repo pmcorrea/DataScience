{
 "cells": [
  {
   "cell_type": "code",
   "execution_count": 41,
   "metadata": {},
   "outputs": [
    {
     "data": {
      "text/plain": [
       "['MAXYEAR',\n",
       " 'MINYEAR',\n",
       " '__builtins__',\n",
       " '__cached__',\n",
       " '__doc__',\n",
       " '__file__',\n",
       " '__loader__',\n",
       " '__name__',\n",
       " '__package__',\n",
       " '__spec__',\n",
       " 'date',\n",
       " 'datetime',\n",
       " 'datetime_CAPI',\n",
       " 'time',\n",
       " 'timedelta',\n",
       " 'timezone',\n",
       " 'tzinfo']"
      ]
     },
     "execution_count": 41,
     "metadata": {},
     "output_type": "execute_result"
    }
   ],
   "source": [
    "import datetime \n",
    "\n",
    "dir(datetime)"
   ]
  },
  {
   "cell_type": "code",
   "execution_count": 73,
   "metadata": {},
   "outputs": [
    {
     "data": {
      "text/plain": [
       "datetime.datetime(2019, 1, 28, 19, 2, 42, 903768)"
      ]
     },
     "execution_count": 73,
     "metadata": {},
     "output_type": "execute_result"
    }
   ],
   "source": [
    "#.now()\n",
    "datetime.datetime.now()"
   ]
  },
  {
   "cell_type": "code",
   "execution_count": 74,
   "metadata": {},
   "outputs": [
    {
     "data": {
      "text/plain": [
       "datetime.datetime(2019, 1, 28, 3, 15, 19)"
      ]
     },
     "execution_count": 74,
     "metadata": {},
     "output_type": "execute_result"
    }
   ],
   "source": [
    "#.replace()\n",
    "somedate = datetime.datetime.now()\n",
    "somedate = somedate.replace(hour=3, minute=15, second=19, microsecond=0)\n",
    "somedate"
   ]
  },
  {
   "cell_type": "code",
   "execution_count": 75,
   "metadata": {},
   "outputs": [
    {
     "data": {
      "text/plain": [
       "16"
      ]
     },
     "execution_count": 75,
     "metadata": {},
     "output_type": "execute_result"
    }
   ],
   "source": [
    "#Operation return a timedelta object\n",
    "now = datetime.datetime.now()\n",
    "othertime = now.replace(hour=3, minute=15, second=19, microsecond=0)\n",
    "diff = now - othertime\n",
    "diff                                                                        #returns timedelta(days, seconds, microseconds)\n",
    "\n",
    "def inHours():\n",
    "    x = datetime.datetime.now()\n",
    "    y = othertime = now.replace(hour=3, minute=15, second=19, microsecond=0)\n",
    "    diff = x - y\n",
    "    return round(diff.seconds/3600) #No. of days\n",
    "\n",
    "inHours()"
   ]
  },
  {
   "cell_type": "code",
   "execution_count": 79,
   "metadata": {},
   "outputs": [
    {
     "name": "stdout",
     "output_type": "stream",
     "text": [
      "2019-01-28 20:02:45.806853\n",
      "2019-01-28 18:02:45.806853\n"
     ]
    }
   ],
   "source": [
    "#Manipulating time by using timedelta\n",
    "delta = datetime.timedelta(hours=1)\n",
    "print(now + delta) #time is ahead by 1 hour\n",
    "\n",
    "delta = datetime.timedelta(hours=-1)\n",
    "print(now + delta) #time is behind by 1 hour"
   ]
  },
  {
   "cell_type": "code",
   "execution_count": 90,
   "metadata": {},
   "outputs": [
    {
     "name": "stdout",
     "output_type": "stream",
     "text": [
      "2019-01-28\n",
      "19:02:45.806853\n",
      "00:00:00\n",
      "2019-01-28 00:00:00\n"
     ]
    }
   ],
   "source": [
    "#Different expressions of time\n",
    "print(now.date())\n",
    "print(now.time())\n",
    "print(datetime.time()) #creates midnight\n",
    "print(datetime.datetime.combine(now.date(), datetime.time()))"
   ]
  },
  {
   "cell_type": "code",
   "execution_count": 99,
   "metadata": {},
   "outputs": [
    {
     "data": {
      "text/plain": [
       "0"
      ]
     },
     "execution_count": 99,
     "metadata": {},
     "output_type": "execute_result"
    }
   ],
   "source": [
    "now.weekday() #The week starts Monday, index 0"
   ]
  },
  {
   "cell_type": "code",
   "execution_count": 114,
   "metadata": {},
   "outputs": [
    {
     "name": "stdout",
     "output_type": "stream",
     "text": [
      "01/19\n"
     ]
    },
    {
     "data": {
      "text/plain": [
       "datetime.datetime(2015, 12, 9, 0, 0)"
      ]
     },
     "execution_count": 114,
     "metadata": {},
     "output_type": "execute_result"
    }
   ],
   "source": [
    "#return string from time\n",
    "print(now.strftime('%m/%y')) #check documentation for additional string formatting\n",
    "\n",
    "#return time from string\n",
    "datetime.datetime.strptime('2015-12-09', '%Y-%m-%d')"
   ]
  },
  {
   "cell_type": "code",
   "execution_count": 56,
   "metadata": {},
   "outputs": [
    {
     "data": {
      "text/plain": [
       "datetime.datetime(2001, 4, 12, 21, 45, 50)"
      ]
     },
     "execution_count": 56,
     "metadata": {},
     "output_type": "execute_result"
    }
   ],
   "source": [
    "#Returning datetime from POSIX timestamp\n",
    "arg = 987126350\n",
    "datetime.datetime.fromtimestamp(arg) #only accepts seconds, time from 'The Epoch'"
   ]
  },
  {
   "cell_type": "code",
   "execution_count": 87,
   "metadata": {},
   "outputs": [
    {
     "data": {
      "text/plain": [
       "datetime.datetime(2019, 10, 9, 2, 0, tzinfo=datetime.timezone(datetime.timedelta(-1, 57600)))"
      ]
     },
     "execution_count": 87,
     "metadata": {},
     "output_type": "execute_result"
    }
   ],
   "source": [
    "#Dealing with timezones\n",
    "eastern = datetime.timezone(datetime.timedelta(hours=-5)) #-5 from UTC\n",
    "pacific = datetime.timezone(datetime.timedelta(hours=-8)) #-8 from UTC\n",
    "\n",
    "aware = datetime.datetime(2019, 10, 9, 5, tzinfo=eastern) #the additional argument makes the variable timezone 'aware'\n",
    "aware.astimezone(pacific)"
   ]
  }
 ],
 "metadata": {
  "kernelspec": {
   "display_name": "Python 3",
   "language": "python",
   "name": "python3"
  },
  "language_info": {
   "codemirror_mode": {
    "name": "ipython",
    "version": 3
   },
   "file_extension": ".py",
   "mimetype": "text/x-python",
   "name": "python",
   "nbconvert_exporter": "python",
   "pygments_lexer": "ipython3",
   "version": "3.7.1"
  }
 },
 "nbformat": 4,
 "nbformat_minor": 2
}
