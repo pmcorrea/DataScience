{
 "cells": [
  {
   "cell_type": "markdown",
   "metadata": {},
   "source": [
    "# Terminal Commands"
   ]
  },
  {
   "cell_type": "raw",
   "metadata": {},
   "source": [
    "pwd #Print working directory\n",
    "mkdir #creates new directory\n",
    "mkdir -p dir/dir/dir #creates new directories\n",
    "ls #List files in current directory\n",
    "ls <directory/directory> #List files in directory\n",
    "cd #Change directory\n",
    "cd <file_name> #Change to spcific directory\n",
    "cd .. #Parent directory\n",
    "touch #creates new file\n",
    "man <command> #Displays manual for command\n",
    "find -name '*.txt'\n",
    "\n",
    "whoami #Display current user\n",
    "clear #Clears screen\n",
    "\n",
    "<control_key>C #Quits currect task\n",
    "<control_key>L #Clears screen\n",
    "\n",
    "cd / #root dir\n",
    "cd ~ #home dir\n",
    "* #Wildcard\n",
    "ls */ #lists all directories and subdir\n",
    "more <file_name> #then use spacebar to scroll\n",
    "less <file_name> #'q' to quit, arrow keys to scroll, content goes away after 'q'\n",
    "\n",
    "cp <file_to_copy> <file_or_dir_to_copy_to> #copy\n",
    "cp -r <dir_to_copy> <new_dir_name> #copies content inside as well\n",
    "\n",
    "mv <file_to_move> <dir_to_move_to>#move\n",
    "\n",
    "rm <file> #permantely deletes file...NO UNDO, NO RECOVERY\n",
    "rm -r <dir_to_rm> #permantely deletes dir"
   ]
  },
  {
   "cell_type": "markdown",
   "metadata": {},
   "source": [
    "# Commands that take arguments"
   ]
  },
  {
   "cell_type": "raw",
   "metadata": {},
   "source": [
    "cat <file_name> #concatonate\n",
    "echo <'each text within' 'qoutes is a' 'seperate argument'> #Displays text back"
   ]
  },
  {
   "cell_type": "markdown",
   "metadata": {},
   "source": [
    "# Commands w/ options"
   ]
  },
  {
   "cell_type": "raw",
   "metadata": {},
   "source": [
    "ls -a #displays all files including hidden files\n",
    "ls -t #sorted by time of creation"
   ]
  },
  {
   "cell_type": "markdown",
   "metadata": {},
   "source": [
    "# History & Tab Completion"
   ]
  },
  {
   "cell_type": "raw",
   "metadata": {},
   "source": [
    "Past commands can be accessed by pressing the UP arrow or by typing history into the terminal. Press enter to rerun an older command or to fix\n",
    "a typo.\n",
    "\n",
    "Tab completion can be used as well."
   ]
  },
  {
   "cell_type": "markdown",
   "metadata": {},
   "source": [
    "# Running Executables"
   ]
  },
  {
   "cell_type": "raw",
   "metadata": {},
   "source": [
    "Running executables have a safety feature. You must be in a parent directory, provide the child directory AND the file name.\n",
    "cd ..\n",
    "<child_dir>/filename.sh\n",
    "or if you're already in the directory\n",
    "./filename.sh"
   ]
  }
 ],
 "metadata": {
  "kernelspec": {
   "display_name": "Python 3",
   "language": "python",
   "name": "python3"
  },
  "language_info": {
   "codemirror_mode": {
    "name": "ipython",
    "version": 3
   },
   "file_extension": ".py",
   "mimetype": "text/x-python",
   "name": "python",
   "nbconvert_exporter": "python",
   "pygments_lexer": "ipython3",
   "version": "3.7.1"
  }
 },
 "nbformat": 4,
 "nbformat_minor": 2
}
