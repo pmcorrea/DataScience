{
 "cells": [
  {
   "cell_type": "code",
   "execution_count": 1,
   "metadata": {},
   "outputs": [],
   "source": [
    "import numpy as np\n",
    "import pandas as pd\n",
    "# from <package> import <func>"
   ]
  },
  {
   "cell_type": "markdown",
   "metadata": {},
   "source": [
    "# Some Built In Functions"
   ]
  },
  {
   "cell_type": "raw",
   "metadata": {},
   "source": [
    "# Math\n",
    "abs(-23) #Absolute value\n",
    "len('Peter') #counts total elements\n",
    "count() #counts number of rows\n",
    "max([1, 2, 3])\n",
    "min([4, 5, 6])\n",
    "pow(5, 2)\n",
    "divmod(8,5)\n",
    "round(5.32)\n",
    "sum([1,2,3])\n",
    "\n",
    "# Type Conversion\n",
    "bool()\n",
    "int()\n",
    "str()\n",
    "float()\n",
    "complex()\n",
    "\n",
    "# Iterables and Iterators\n",
    "all()\n",
    "any()\n",
    "enumerate()\n",
    "iter()\n",
    "next()\n",
    "reversed()\n",
    "\n",
    "len()\n",
    "filter()\n",
    "sorted()\n",
    "map()\n",
    "\n",
    "range()\n",
    "slice()\n",
    "zip()\n",
    "\n",
    "# Composite Date Types\n",
    "tuple()\n",
    "list()\n",
    "dict()\n",
    "set()\n",
    "object()\n",
    "\n",
    "# Input / Output\n",
    "print()\n",
    "open()\n",
    "input()\n",
    "format()\n",
    "\n",
    "'-'.join(var)"
   ]
  },
  {
   "cell_type": "markdown",
   "metadata": {},
   "source": [
    "Mutable objects:\n",
    "list, dict, set, byte array\n",
    "\n",
    "Immutable objects:\n",
    "int, float, complex, string, tuple, frozen set [note: immutable version of set], bytes, range, bool, decimal"
   ]
  },
  {
   "cell_type": "markdown",
   "metadata": {},
   "source": [
    "# Magic Methods"
   ]
  },
  {
   "cell_type": "raw",
   "metadata": {},
   "source": [
    "__init__\n",
    "__str__ #Changes the print function\n",
    "__int__\n",
    "__float__\n",
    "__add__ #Changes how two things get added\n",
    "__radd__ #Reflective addition\n",
    "__iadd__ #inplace addition\n",
    "__new__ #Class methods"
   ]
  },
  {
   "cell_type": "markdown",
   "metadata": {},
   "source": [
    "# Variables"
   ]
  },
  {
   "cell_type": "code",
   "execution_count": 14,
   "metadata": {},
   "outputs": [
    {
     "name": "stdout",
     "output_type": "stream",
     "text": [
      "4512884224\n",
      "4512891520\n"
     ]
    }
   ],
   "source": [
    "# Integer values between (-5, 256) always referenced the same object, Python preloads these values for optimization purposes\n",
    "a = 4\n",
    "b = 232\n",
    "print(id(a))\n",
    "\n",
    "print(id(b)) #Both variables reference the same objects"
   ]
  },
  {
   "cell_type": "code",
   "execution_count": 15,
   "metadata": {},
   "outputs": [
    {
     "name": "stdout",
     "output_type": "stream",
     "text": [
      "4512884416\n",
      "4512884736\n",
      "20\n"
     ]
    }
   ],
   "source": [
    "# python doesnt use any reserved keywords for declaring variables. Simply declare them.\n",
    "# Each reassignment creates an additional independent variable in memory.\n",
    "alpha = 10\n",
    "print(id(alpha))\n",
    "\n",
    "alpha = 20\n",
    "print(id(alpha))\n",
    "print(alpha)"
   ]
  },
  {
   "cell_type": "code",
   "execution_count": 17,
   "metadata": {},
   "outputs": [
    {
     "name": "stdout",
     "output_type": "stream",
     "text": [
      "10\n",
      "20\n",
      "30\n"
     ]
    }
   ],
   "source": [
    "# Declaring multiple variables\n",
    "x, y, z = 10, 20, 30\n",
    "print(x)\n",
    "print(y)\n",
    "print(z)"
   ]
  },
  {
   "cell_type": "code",
   "execution_count": 11,
   "metadata": {},
   "outputs": [
    {
     "name": "stdout",
     "output_type": "stream",
     "text": [
      "140418226970128\n",
      "140418226970128\n",
      "140418226970128\n"
     ]
    }
   ],
   "source": [
    "# Chained assingments always reference the same object\n",
    "a = b = c = 300\n",
    "print(id(a))\n",
    "print(id(b))\n",
    "print(id(c))"
   ]
  },
  {
   "cell_type": "markdown",
   "metadata": {},
   "source": [
    "# Tuples"
   ]
  },
  {
   "cell_type": "raw",
   "metadata": {},
   "source": [
    "There are four collection data types in the Python programming language:\n",
    "\n",
    "List is a collection which is ordered and changeable. Allows duplicate members.\n",
    "Tuple is a collection which is ordered and unchangeable. Allows duplicate members.\n",
    "Set is a collection which is unordered and unindexed. No duplicate members.\n",
    "Dictionary is a collection which is unordered, changeable and indexed. No duplicate members."
   ]
  },
  {
   "cell_type": "raw",
   "metadata": {},
   "source": [
    "Immutable, but mutable members of the tuples can be updated.\n",
    "Tuples are created by the commas between then not the parenthesis."
   ]
  },
  {
   "cell_type": "code",
   "execution_count": 21,
   "metadata": {},
   "outputs": [
    {
     "name": "stdout",
     "output_type": "stream",
     "text": [
      "Pirates\n",
      "Rum\n"
     ]
    }
   ],
   "source": [
    "# Creating\n",
    "tuple = 'Pirates', 'Rum'\n",
    "type(tuple)\n",
    "\n",
    "#Accessing elements\n",
    "print(tuple[0])\n",
    "print(tuple[1])"
   ]
  },
  {
   "cell_type": "code",
   "execution_count": 22,
   "metadata": {},
   "outputs": [
    {
     "ename": "TypeError",
     "evalue": "'tuple' object does not support item assignment",
     "output_type": "error",
     "traceback": [
      "\u001b[0;31m---------------------------------------------------------------------------\u001b[0m",
      "\u001b[0;31mTypeError\u001b[0m                                 Traceback (most recent call last)",
      "\u001b[0;32m<ipython-input-22-0b91dc278b78>\u001b[0m in \u001b[0;36m<module>\u001b[0;34m\u001b[0m\n\u001b[1;32m      1\u001b[0m \u001b[0;31m#Tuples are immutable...will display errors\u001b[0m\u001b[0;34m\u001b[0m\u001b[0;34m\u001b[0m\u001b[0;34m\u001b[0m\u001b[0m\n\u001b[0;32m----> 2\u001b[0;31m \u001b[0mtuple\u001b[0m\u001b[0;34m[\u001b[0m\u001b[0;36m0\u001b[0m\u001b[0;34m]\u001b[0m \u001b[0;34m=\u001b[0m \u001b[0;34m'Capt. Jack Sparrow'\u001b[0m\u001b[0;34m\u001b[0m\u001b[0;34m\u001b[0m\u001b[0m\n\u001b[0m",
      "\u001b[0;31mTypeError\u001b[0m: 'tuple' object does not support item assignment"
     ]
    }
   ],
   "source": [
    "#Tuples are immutable...will display errors\n",
    "tuple[0] = 'Capt. Jack Sparrow'"
   ]
  },
  {
   "cell_type": "code",
   "execution_count": 27,
   "metadata": {},
   "outputs": [
    {
     "data": {
      "text/plain": [
       "(['Whiskey', 'Beer', 'Wine', 'Scotch'],\n",
       " ['Professor Plum', 'Mr.Green'],\n",
       " [1, 2, 3, 4])"
      ]
     },
     "execution_count": 27,
     "metadata": {},
     "output_type": "execute_result"
    }
   ],
   "source": [
    "#Mutable elements can be updated\n",
    "list1 = ['Whiskey', 'Beer', 'Wine']\n",
    "list2 = ['Professor Plum', 'Mr.Green']\n",
    "list3 = [1, 2, 3, 4]\n",
    "\n",
    "anotherTuple = (list1, list2, list3)\n",
    "list1.append('Scotch')\n",
    "anotherTuple "
   ]
  },
  {
   "cell_type": "code",
   "execution_count": 28,
   "metadata": {},
   "outputs": [
    {
     "data": {
      "text/plain": [
       "(5, 1)"
      ]
     },
     "execution_count": 28,
     "metadata": {},
     "output_type": "execute_result"
    }
   ],
   "source": [
    "#Tuple swapping...unpacking tuples\n",
    "a, b = 1, 5 #print(1, 5)\n",
    "a, b = b, a\n",
    "a, b #prints (5, 1)"
   ]
  },
  {
   "cell_type": "markdown",
   "metadata": {},
   "source": [
    "# Dictionaries"
   ]
  },
  {
   "cell_type": "markdown",
   "metadata": {},
   "source": [
    "Dicts are not sorted and cannot be indexed"
   ]
  },
  {
   "cell_type": "code",
   "execution_count": 33,
   "metadata": {},
   "outputs": [
    {
     "name": "stdout",
     "output_type": "stream",
     "text": [
      "Madrid\n"
     ]
    }
   ],
   "source": [
    "#Creating\n",
    "world = {\n",
    "    'Italy':'Rome', \n",
    "    'Spain': 'Madrid', \n",
    "    'Norway': 'Oslo', \n",
    "    'Iceland':'Reykjavik'\n",
    "}\n",
    "\n",
    "#Adding values\n",
    "world['Greenland'] = 'Nuuk'\n",
    "\n",
    "#Adding multiple values at a time\n",
    "world.update({\"anotherTown\":\"anotherCapital\", \"someTown\":\"someCapital\"})\n",
    "\n",
    "# Accessing values\n",
    "print(world['Spain'])\n",
    "\n",
    "#Deleting values\n",
    "del(world['Iceland'])\n",
    "world.pop('someTown') \n",
    "world.clear #Empties entire dict"
   ]
  },
  {
   "cell_type": "code",
   "execution_count": 1,
   "metadata": {},
   "outputs": [
    {
     "name": "stdout",
     "output_type": "stream",
     "text": [
      "{'gender': 'male', 'age': 28}\n"
     ]
    },
    {
     "data": {
      "text/plain": [
       "'My name is Peter Correa'"
      ]
     },
     "execution_count": 1,
     "metadata": {},
     "output_type": "execute_result"
    }
   ],
   "source": [
    "#Packing...another way to create a dict\n",
    "def packer(name=None, **kwargs): #it will catch 'name' and not including in the packing process\n",
    "    print(kwargs)                #**kwargs must always be the final parameter\n",
    "    \n",
    "packer(name='Peter',gender='male', age=28)\n",
    "\n",
    "#Unpacking\n",
    "my_dict = {'first_name':'Peter', 'last_name':'Correa'}\n",
    "\n",
    "\"My name is {first_name} {last_name}\".format(**my_dict)"
   ]
  },
  {
   "cell_type": "code",
   "execution_count": 34,
   "metadata": {},
   "outputs": [
    {
     "name": "stdout",
     "output_type": "stream",
     "text": [
      "Conductor: Sir Simon Rattel\n",
      "Composition: Symphony in D minor\n",
      "Composer: G. Mahler\n",
      "('Conductor', 'Sir Simon Rattel')\n",
      "('Composition', 'Symphony in D minor')\n",
      "('Composer', 'G. Mahler')\n"
     ]
    }
   ],
   "source": [
    "#Iteration\n",
    "my_dict = {'Conductor':'Sir Simon Rattel', 'Composition':'Symphony in D minor', 'Composer':'G. Mahler'}\n",
    "\n",
    "for k in my_dict:\n",
    "    print(k + ': ' + my_dict[k])\n",
    "    \n",
    "#more pythonic\n",
    "for k in my_dict.items():\n",
    "    print(k)"
   ]
  },
  {
   "cell_type": "markdown",
   "metadata": {},
   "source": [
    "# Lists"
   ]
  },
  {
   "cell_type": "code",
   "execution_count": 2,
   "metadata": {},
   "outputs": [
    {
     "name": "stdout",
     "output_type": "stream",
     "text": [
      "['Wash Car', 'Walk Dog', 'Visit Tristan da Cunha', 'Read a Novel']\n",
      "['Wash Car', 'Walk Dog', 'Visit Tristan da Cunha', 'Read a Novel', 'Visit the Moon', 'Feed Snake', 'Walk Dog']\n",
      "5\n",
      "['Wash Car', 'Visit Tristan da Cunha', 'Visit the Moon', 'Walk Dog']\n"
     ]
    },
    {
     "data": {
      "text/plain": [
       "['a', '7', 'x', '9', 'e']"
      ]
     },
     "execution_count": 2,
     "metadata": {},
     "output_type": "execute_result"
    }
   ],
   "source": [
    "#Creating\n",
    "toDoList = [\"Wash Car\", \"Walk Dog\", \"Visit Tristan da Cunha\"]\n",
    "\n",
    "#Appending\n",
    "toDoList.append('Read a Novel')\n",
    "\n",
    "#Add elements from one list to another\n",
    "otherList = ['Visit the Moon', 'Feed Snake', 'Walk Dog']\n",
    "toDoList.extend(otherList)\n",
    "\n",
    "#Concat\n",
    "otherList = ['Visit the Moon', 'Feed Snake', 'Walk Dog']\n",
    "together = toDoList + otherList\n",
    "\n",
    "#Finding index of element\n",
    "snake_position = toDoList.index('Feed Snake')\n",
    "\n",
    "#Deleting values\n",
    "toDoList.pop(snake_position) #takes index\n",
    "toDoList.remove('Walk Dog') #deletes first occurance \n",
    "del(toDoList[2]) \n",
    "\n",
    "#Slicing [start:exclusive_end:skips]\n",
    "someList = ['a', 'b', 'c', 'd', 'e', 'f', 'g']\n",
    "someList[0:3] #last selection is exclusive\n",
    "someList[0:8:2] #skips\n",
    "someList[-7:-1] #negative indexing...-1 is the second to last element from the right\n",
    "someList[-2:-8:-1] #-1 allows to print right to left (-2 to -8)\n",
    "\n",
    "#Length\n",
    "len(toDoList)"
   ]
  },
  {
   "cell_type": "code",
   "execution_count": 21,
   "metadata": {},
   "outputs": [
    {
     "name": "stdout",
     "output_type": "stream",
     "text": [
      "['Wash Car', 'Walk Dog', 'Learn Swing Dancing']\n",
      "140595349204488\n",
      "140595349204488\n"
     ]
    }
   ],
   "source": [
    "#Lists are Reference Type\n",
    "toDoList = [\"Wash Car\", \"Walk Dog\", \"Visit Tristan da Cunha\"]\n",
    "\n",
    "toDoList2 = toDoList\n",
    "toDoList2[2] = \"Learn Swing Dancing\"\n",
    "\n",
    "print(toDoList) #original is changed\n",
    "print(id(toDoList)) # Same ID\n",
    "print(id(toDoList2))"
   ]
  },
  {
   "cell_type": "code",
   "execution_count": 24,
   "metadata": {},
   "outputs": [
    {
     "name": "stdout",
     "output_type": "stream",
     "text": [
      "['Wash Car', 'Walk Dog', 'Visit Tristan da Cunha']\n",
      "['Wash Car', 'Walk Dog', 'Learn Swing Dancing']\n",
      "140595349645000\n",
      "140595349204616\n"
     ]
    }
   ],
   "source": [
    "#Copy Lists\n",
    "toDoList = [\"Wash Car\", \"Walk Dog\", \"Visit Tristan da Cunha\"]\n",
    "\n",
    "toDoList2 = toDoList.copy() #copies\n",
    "toDoList2[2] = \"Learn Swing Dancing\"\n",
    "\n",
    "print(toDoList)\n",
    "print(toDoList2)\n",
    "print(id(toDoList))\n",
    "print(id(toDoList2))"
   ]
  },
  {
   "cell_type": "code",
   "execution_count": 27,
   "metadata": {},
   "outputs": [
    {
     "name": "stdout",
     "output_type": "stream",
     "text": [
      "Wash Car\n",
      "Walk Dog\n",
      "Visit Tristan da Cunha\n"
     ]
    }
   ],
   "source": [
    "#Looping\n",
    "for i in toDoList:\n",
    "    print(i)"
   ]
  },
  {
   "cell_type": "code",
   "execution_count": 31,
   "metadata": {},
   "outputs": [
    {
     "name": "stdout",
     "output_type": "stream",
     "text": [
      "yes\n"
     ]
    }
   ],
   "source": [
    "# Checking for values\n",
    "if \"Wash Car\" in toDoList:\n",
    "        print(\"yes\")"
   ]
  },
  {
   "cell_type": "markdown",
   "metadata": {},
   "source": [
    "# Sets"
   ]
  },
  {
   "cell_type": "code",
   "execution_count": 47,
   "metadata": {},
   "outputs": [],
   "source": [
    "# No indexing, no order, iterable\n",
    "\n",
    "set_of_nums = set([1,2,3,4,5,6,7,8,9,0])\n",
    "set_of_primes = set([1, 3, 5, 7, 9, 11, 13, 17,19])\n",
    "\n",
    "union = set_of_nums.union(set_of_primes) #All items\n",
    "diff = set_of_nums.difference(set_of_primes) #Unique to the first set\n",
    "sym_diff = set_of_nums.symmetric_difference(set_of_primes) #unique to eachside\n",
    "intersect = set_of_nums.intersection(set_of_primes) #Shared values"
   ]
  },
  {
   "cell_type": "markdown",
   "metadata": {},
   "source": [
    "# Logic and Control Flow"
   ]
  },
  {
   "cell_type": "code",
   "execution_count": 50,
   "metadata": {},
   "outputs": [
    {
     "name": "stdout",
     "output_type": "stream",
     "text": [
      "This is divisible by 2\n"
     ]
    }
   ],
   "source": [
    "#If, Elif, Else...indentation matters in Python\n",
    "n=10\n",
    "\n",
    "if n % 2 == 0:\n",
    "    print(\"This is divisible by 2\")\n",
    "    \n",
    "elif  n % 5:\n",
    "    print(\"This is divisible by 5\")\n",
    "        \n",
    "else:\n",
    "    print(\"This is not divisible by 2 nor 5\")"
   ]
  },
  {
   "cell_type": "code",
   "execution_count": 69,
   "metadata": {},
   "outputs": [
    {
     "data": {
      "text/plain": [
       "'dot'"
      ]
     },
     "execution_count": 69,
     "metadata": {},
     "output_type": "execute_result"
    }
   ],
   "source": [
    "#Ternary conditional\n",
    "# condition_if_true if condition else condition_if_false\n",
    "a = '.'\n",
    "'dot' if a == '.' else 'dash'"
   ]
  },
  {
   "cell_type": "code",
   "execution_count": null,
   "metadata": {},
   "outputs": [],
   "source": [
    "#While Loops\n",
    "error = 50\n",
    "\n",
    "while error > 4:\n",
    "    error = error / 2\n",
    "    print(error)"
   ]
  },
  {
   "cell_type": "code",
   "execution_count": null,
   "metadata": {},
   "outputs": [],
   "source": [
    "#For loops\n",
    "to_turn_into_even = [1,3,5,7,9]\n",
    "\n",
    "for var in to_turn_into_even:\n",
    "    var = var * 2\n",
    "    print(var)"
   ]
  },
  {
   "cell_type": "code",
   "execution_count": null,
   "metadata": {},
   "outputs": [],
   "source": [
    "#Enumerated Loops\n",
    "to_turn_into_even = [1,3,5,7,9]\n",
    "\n",
    "for index, var in enumerate(to_turn_into_even):\n",
    "    var = var * 2\n",
    "    print(\"Located at index \", index, \"is\", var)"
   ]
  },
  {
   "cell_type": "code",
   "execution_count": null,
   "metadata": {},
   "outputs": [],
   "source": [
    "#Loops through Dictionaries...must add .items() method\n",
    "world_dict = {\n",
    "             'Country':['Italy','Spain', 'Norway', 'Belgium', 'Iceland', 'Finland'],\n",
    "             'Capital':['Rome','Madrid','Oslo','Brussels','Reykjavik','Helsinki'],\n",
    "             'Population':[15,11,9,7,8,3]}\n",
    "\n",
    "for key, value in world_dict.items(): \n",
    "    print(key, value)"
   ]
  },
  {
   "cell_type": "code",
   "execution_count": null,
   "metadata": {},
   "outputs": [],
   "source": [
    "#Loops through Data Structures \n",
    "world_dict = {\n",
    "             'Country':['Italy','Spain', 'Norway', 'Belgium', 'Iceland', 'Finland'],\n",
    "             'Capital':['Rome','Madrid','Oslo','Brussels','Reykjavik','Helsinki'],\n",
    "             'Population':[15,11,9,7,8,3]}\n",
    "\n",
    "world = pd.DataFrame(world_dict)\n",
    "world.index = ['It', 'Sp', 'Nw', 'Bg', 'Il', 'Fl']\n",
    "\n",
    "for values in world:\n",
    "    print(values)"
   ]
  },
  {
   "cell_type": "code",
   "execution_count": 63,
   "metadata": {},
   "outputs": [
    {
     "name": "stdout",
     "output_type": "stream",
     "text": [
      "[4, 9, 16]\n"
     ]
    }
   ],
   "source": [
    "#Looping through a list of tuples\n",
    "list_of_tuples = [(2,2),(3,3),(4,4)]\n",
    "\n",
    "new_list = [tup[0]*tup[1] for tup in list_of_tuples]\n",
    "print(new_list)"
   ]
  },
  {
   "cell_type": "code",
   "execution_count": 64,
   "metadata": {},
   "outputs": [
    {
     "name": "stdout",
     "output_type": "stream",
     "text": [
      "4\n",
      "8\n",
      "12\n",
      "16\n"
     ]
    }
   ],
   "source": [
    "#Looping through Numpy arrays\n",
    "np_base = np.array([2,4,6,8])\n",
    "np_power = np.array([2,2,2,2])\n",
    "new_num = np_base * np_power\n",
    "\n",
    "for value in new_num:\n",
    "    print(value)"
   ]
  },
  {
   "cell_type": "code",
   "execution_count": 65,
   "metadata": {},
   "outputs": [
    {
     "name": "stdout",
     "output_type": "stream",
     "text": [
      "[2. 4. 6. 8.]\n",
      "[2.  2.1 2.2 2.3]\n"
     ]
    }
   ],
   "source": [
    "#Looping through Numpy arrays\n",
    "np_base = np.array([2,4,6,8])\n",
    "np_power = np.array([2.0,2.1,2.2,2.3])\n",
    "new_num = np.array([np_base, np_power])\n",
    "\n",
    "for value in new_num:\n",
    "    print(value)"
   ]
  },
  {
   "cell_type": "code",
   "execution_count": 66,
   "metadata": {},
   "outputs": [
    {
     "name": "stdout",
     "output_type": "stream",
     "text": [
      "[[2.  4.  6.  8. ]\n",
      " [2.  2.1 2.2 2.3]]\n",
      "2.0\n",
      "4.0\n",
      "6.0\n",
      "8.0\n",
      "2.0\n",
      "2.1\n",
      "2.2\n",
      "2.3\n"
     ]
    }
   ],
   "source": [
    "np_base = np.array([2,4,6,8])\n",
    "np_power = np.array([2.0,2.1,2.2,2.3])\n",
    "new_num = np.array([np_base, np_power])\n",
    "print(new_num)\n",
    "for value in np.nditer(new_num):\n",
    "    print(value)"
   ]
  },
  {
   "cell_type": "markdown",
   "metadata": {},
   "source": [
    "# Functions"
   ]
  },
  {
   "cell_type": "code",
   "execution_count": 71,
   "metadata": {},
   "outputs": [
    {
     "data": {
      "text/plain": [
       "\u001b[0;31mSignature:\u001b[0m \u001b[0msquare\u001b[0m\u001b[0;34m(\u001b[0m\u001b[0mvalue\u001b[0m\u001b[0;34m)\u001b[0m\u001b[0;34m\u001b[0m\u001b[0;34m\u001b[0m\u001b[0m\n",
       "\u001b[0;31mDocstring:\u001b[0m This function will square any number\n",
       "\u001b[0;31mFile:\u001b[0m      ~/Notebooks/Basics/<ipython-input-71-c942ec27e683>\n",
       "\u001b[0;31mType:\u001b[0m      function\n"
      ]
     },
     "metadata": {},
     "output_type": "display_data"
    }
   ],
   "source": [
    "def square(value): \n",
    "    \"\"\"This function will square any number\"\"\"\n",
    "    new_value = value ** 2\n",
    "    print(new_value)\n",
    "    \n",
    "?square"
   ]
  },
  {
   "cell_type": "code",
   "execution_count": 72,
   "metadata": {},
   "outputs": [
    {
     "name": "stdout",
     "output_type": "stream",
     "text": [
      "16\n"
     ]
    }
   ],
   "source": [
    "def raised_to_power(num1, num2):\n",
    "    \"\"\"This function takes two parameters; a base, and the power.\"\"\"\n",
    "    new_value = num1 ** num2\n",
    "    print(new_value)\n",
    "    \n",
    "raised_to_power(4,2)"
   ]
  },
  {
   "cell_type": "code",
   "execution_count": 74,
   "metadata": {},
   "outputs": [
    {
     "name": "stdout",
     "output_type": "stream",
     "text": [
      "(64, 81)\n"
     ]
    }
   ],
   "source": [
    "#Returning mutiple values\n",
    "def raise_both(val1, val2):\n",
    "    '''This will return each argument raised by the other'''\n",
    "    num1 = val1 ** val2\n",
    "    num2 = val2 ** val1\n",
    "    \n",
    "    new_tuple = (num1, num2)\n",
    "    \n",
    "    print(new_tuple)\n",
    "    \n",
    "raise_both(4,3)"
   ]
  },
  {
   "cell_type": "code",
   "execution_count": 75,
   "metadata": {},
   "outputs": [
    {
     "name": "stdout",
     "output_type": "stream",
     "text": [
      "1024\n",
      "4\n"
     ]
    }
   ],
   "source": [
    "#Default values for arguments\n",
    "#You can still a specific value in place of the default, but when spcification is absent\n",
    "#Python will utilize the default\n",
    "\n",
    "def power_in_tens(value, power=10):\n",
    "    new_value = value ** power\n",
    "    print(new_value)\n",
    "    \n",
    "power_in_tens(2)\n",
    "power_in_tens(2, 2)"
   ]
  },
  {
   "cell_type": "code",
   "execution_count": null,
   "metadata": {},
   "outputs": [],
   "source": [
    "#Flexible arguments\n",
    "def sum_all(*args): #Allows you to take in an undefined amount of variables \n",
    "    \n",
    "    #Initialize a zero value\n",
    "    sum_all = 0\n",
    "    \n",
    "    #Loop through the arguments\n",
    "    for values in args:\n",
    "        sum_all += values\n",
    "    print(sum_all)\n",
    "    \n",
    "sum_all(1,2,3)\n",
    "sum_all(1,2,3,4,5)"
   ]
  },
  {
   "cell_type": "code",
   "execution_count": null,
   "metadata": {},
   "outputs": [],
   "source": [
    "#Keyword Arguments\n",
    "def print_all(**kwargs): #same as *args but with keyworded variables\n",
    "    for key, value in kwargs.items():\n",
    "        print(key + \": \" + value)\n",
    "\n",
    "print_all(name = \"Peter Correa\", instrument = \"Saxophone\")"
   ]
  },
  {
   "cell_type": "code",
   "execution_count": null,
   "metadata": {},
   "outputs": [],
   "source": [
    "#Lambda Functions\n",
    "#quick way to write functions\n",
    "\n",
    "raise_to_power = lambda x,y : x**y\n",
    "raise_to_power(2,4)"
   ]
  },
  {
   "cell_type": "code",
   "execution_count": 67,
   "metadata": {},
   "outputs": [
    {
     "data": {
      "text/plain": [
       "[4, 16, 36, 64]"
      ]
     },
     "execution_count": 67,
     "metadata": {},
     "output_type": "execute_result"
    }
   ],
   "source": [
    "#map function\n",
    "#Two parameters; a function and a sequence \n",
    "\n",
    "seq = [2,4,6,8]\n",
    "square_all = map(lambda num : num ** 2, seq)\n",
    "list(square_all)"
   ]
  },
  {
   "cell_type": "markdown",
   "metadata": {},
   "source": [
    "# Error Handling"
   ]
  },
  {
   "cell_type": "code",
   "execution_count": 78,
   "metadata": {},
   "outputs": [
    {
     "name": "stdout",
     "output_type": "stream",
     "text": [
      "27\n",
      "Must be a number\n",
      "None\n"
     ]
    }
   ],
   "source": [
    "#Error handling\n",
    "\n",
    "def triple_power(*arg):\n",
    "    try:\n",
    "        for value in arg:\n",
    "            new_value = value ** 3\n",
    "            return new_value\n",
    "    except:\n",
    "        print('Must be a number')\n",
    "        \n",
    "print(triple_power(3))\n",
    "print(triple_power('Peter'))"
   ]
  },
  {
   "cell_type": "code",
   "execution_count": null,
   "metadata": {},
   "outputs": [],
   "source": [
    "#Error handling with certain types of errors\n",
    "def triple_power(*arg):\n",
    "    try:\n",
    "        for value in arg:\n",
    "            new_value = value ** 3\n",
    "            return new_value\n",
    "    except TypeError:\n",
    "        print('Must be a number')\n",
    "        \n",
    "\n",
    "print(triple_power('Peter'))"
   ]
  },
  {
   "cell_type": "code",
   "execution_count": null,
   "metadata": {
    "collapsed": true,
    "jupyter": {
     "outputs_hidden": true
    }
   },
   "outputs": [],
   "source": [
    "#Raising Errors\n",
    "def sqrt(x):\n",
    "    if x < 0:\n",
    "        raise ValueError('value must be a positive number')\n",
    "    try:\n",
    "        return x ** 0.5\n",
    "    except:\n",
    "        print('x must by int or float')\n",
    "        \n",
    "sqrt(25)\n",
    "sqrt(-25)"
   ]
  },
  {
   "cell_type": "markdown",
   "metadata": {},
   "source": [
    "# Iterables and Iterators"
   ]
  },
  {
   "cell_type": "code",
   "execution_count": null,
   "metadata": {
    "collapsed": true,
    "jupyter": {
     "outputs_hidden": true
    }
   },
   "outputs": [],
   "source": [
    "#Iterables and Iterators\n",
    "word = iter(\"PETERCORREA\") #becomes an Iterator\n",
    "next(word)\n",
    "next(word) #Iterates through the iterable"
   ]
  },
  {
   "cell_type": "code",
   "execution_count": null,
   "metadata": {
    "collapsed": true,
    "jupyter": {
     "outputs_hidden": true
    }
   },
   "outputs": [],
   "source": [
    "#* \n",
    "word = iter(\"PETERCORREA\") #becomes an Iterator\n",
    "print(*word)\n"
   ]
  },
  {
   "cell_type": "code",
   "execution_count": null,
   "metadata": {
    "collapsed": true,
    "jupyter": {
     "outputs_hidden": true
    }
   },
   "outputs": [],
   "source": [
    "#Enumerate\n",
    "heros = ['Batman', 'Superman', 'Flash', 'Rorschach']\n",
    "names = ['Justin', 'Bryan', 'Eric', 'Pedro']\n",
    "\n",
    "h = enumerate(heros)\n",
    "list(h)"
   ]
  },
  {
   "cell_type": "code",
   "execution_count": null,
   "metadata": {
    "collapsed": true,
    "jupyter": {
     "outputs_hidden": true
    }
   },
   "outputs": [],
   "source": [
    "#Enumerate Unpack\n",
    "for index, value in enumerate(heros):\n",
    "    print(index, value)"
   ]
  },
  {
   "cell_type": "code",
   "execution_count": 54,
   "metadata": {},
   "outputs": [
    {
     "data": {
      "text/plain": [
       "[('Batman', 'Justin'),\n",
       " ('Superman', 'Bryan'),\n",
       " ('Flash', 'Eric'),\n",
       " ('Rorschach', 'Pedro')]"
      ]
     },
     "execution_count": 54,
     "metadata": {},
     "output_type": "execute_result"
    }
   ],
   "source": [
    "#Zip...similar to colum stack\n",
    "heros = ['Batman', 'Superman', 'Flash', 'Rorschach']\n",
    "names = ['Justin', 'Bryan', 'Eric', 'Pedro']\n",
    "\n",
    "z = zip(heros, names)\n",
    "list(z)"
   ]
  },
  {
   "cell_type": "code",
   "execution_count": 55,
   "metadata": {
    "collapsed": true,
    "jupyter": {
     "outputs_hidden": true
    }
   },
   "outputs": [
    {
     "data": {
      "text/plain": [
       "{'Batman': 'Justin',\n",
       " 'Superman': 'Bryan',\n",
       " 'Flash': 'Eric',\n",
       " 'Rorschach': 'Pedro'}"
      ]
     },
     "execution_count": 55,
     "metadata": {},
     "output_type": "execute_result"
    }
   ],
   "source": [
    "#Zip...create a dict\n",
    "heros = ['Batman', 'Superman', 'Flash', 'Rorschach']\n",
    "names = ['Justin', 'Bryan', 'Eric', 'Pedro']\n",
    "\n",
    "z = zip(heros, names)\n",
    "dict(z)"
   ]
  },
  {
   "cell_type": "code",
   "execution_count": 56,
   "metadata": {
    "collapsed": true,
    "jupyter": {
     "outputs_hidden": true
    }
   },
   "outputs": [
    {
     "name": "stdout",
     "output_type": "stream",
     "text": [
      "Batman Justin\n",
      "Superman Bryan\n",
      "Flash Eric\n",
      "Rorschach Pedro\n"
     ]
    }
   ],
   "source": [
    "#Zip unpack\n",
    "heros = ['Batman', 'Superman', 'Flash', 'Rorschach']\n",
    "names = ['Justin', 'Bryan', 'Eric', 'Pedro']\n",
    "\n",
    "for z1, z2 in zip(heros, names):\n",
    "    print(z1, z2)"
   ]
  },
  {
   "cell_type": "code",
   "execution_count": 57,
   "metadata": {
    "collapsed": true,
    "jupyter": {
     "outputs_hidden": true
    }
   },
   "outputs": [
    {
     "name": "stdout",
     "output_type": "stream",
     "text": [
      "['charles xavier', 'bobby drake', 'kurt wagner', 'max eisenhardt', 'kitty pride']\n",
      "1 charles xavier\n",
      "2 bobby drake\n",
      "3 kurt wagner\n",
      "4 max eisenhardt\n",
      "5 kitty pride\n"
     ]
    }
   ],
   "source": [
    "# Create a list of strings: mutants\n",
    "mutants = ['charles xavier', \n",
    "            'bobby drake', \n",
    "            'kurt wagner', \n",
    "            'max eisenhardt', \n",
    "            'kitty pride']\n",
    "\n",
    "# Create a list of tuples: mutant_list\n",
    "mutant_list = list(mutants)\n",
    "\n",
    "# Print the list of tuples\n",
    "print(mutant_list)\n",
    "\n",
    "# Change the start index\n",
    "for index2, value2 in enumerate(mutant_list, start = 1):\n",
    "    print(index2, value2)"
   ]
  },
  {
   "cell_type": "code",
   "execution_count": 58,
   "metadata": {
    "collapsed": true,
    "jupyter": {
     "outputs_hidden": true
    }
   },
   "outputs": [
    {
     "ename": "SyntaxError",
     "evalue": "unexpected EOF while parsing (<ipython-input-58-cafd162d96de>, line 3)",
     "output_type": "error",
     "traceback": [
      "\u001b[0;36m  File \u001b[0;32m\"<ipython-input-58-cafd162d96de>\"\u001b[0;36m, line \u001b[0;32m3\u001b[0m\n\u001b[0;31m    # rest of for loop\u001b[0m\n\u001b[0m                      ^\u001b[0m\n\u001b[0;31mSyntaxError\u001b[0m\u001b[0;31m:\u001b[0m unexpected EOF while parsing\n"
     ]
    }
   ],
   "source": [
    "#Iterating through data chunks\n",
    "for chunk in pd.read_csv('tweets.csv', chunksize = 10):\n",
    "    # rest of for loop"
   ]
  },
  {
   "cell_type": "markdown",
   "metadata": {},
   "source": [
    "# Comprehensions"
   ]
  },
  {
   "cell_type": "code",
   "execution_count": 1,
   "metadata": {
    "collapsed": true,
    "jupyter": {
     "outputs_hidden": true
    }
   },
   "outputs": [
    {
     "name": "stdout",
     "output_type": "stream",
     "text": [
      "[2, 4, 6, 8, 10]\n",
      "{'a': 1, 'b': 2, 'c': 3, 'd': 4, 'e': 5, 'f': 6}\n",
      "{10, 4, 36, 84}\n"
     ]
    }
   ],
   "source": [
    "# Comprehensions allow you to work with iterators and create iterators\n",
    "# Syntax follows [<returned_exp> for <item> in <iterable>]\n",
    "\n",
    "# List Comprehenshions\n",
    "lcomp = [num * 2 for num in range(1, 6)]\n",
    "\n",
    "# Dict Comprehenshions\n",
    "dcomp = {letter: num for letter, num in zip('abcdef', range(1, 7))}\n",
    "\n",
    "# Set Comprehenshions\n",
    "scomp = {num * 2 for num in [5, 2, 18, 2, 42, 2, 2]}\n",
    "\n",
    "print(lcomp)\n",
    "print(dcomp)\n",
    "print(scomp)"
   ]
  },
  {
   "cell_type": "code",
   "execution_count": null,
   "metadata": {},
   "outputs": [],
   "source": [
    "outer = 'abc'\n",
    "inner = '123'\n",
    "[(y, x) for y in outer for x in inner]"
   ]
  },
  {
   "cell_type": "code",
   "execution_count": 2,
   "metadata": {
    "collapsed": true,
    "jupyter": {
     "outputs_hidden": true
    }
   },
   "outputs": [
    {
     "name": "stdout",
     "output_type": "stream",
     "text": [
      "[(0, 4), (0, 5), (0, 6), (0, 7), (1, 4), (1, 5), (1, 6), (1, 7), (2, 4), (2, 5), (2, 6), (2, 7), (3, 4), (3, 5), (3, 6), (3, 7)]\n"
     ]
    }
   ],
   "source": [
    "num_pairs = [(num1, num2) for num1 in range(0,4) for num2 in range(4, 8)]\n",
    "print(num_pairs)"
   ]
  },
  {
   "cell_type": "code",
   "execution_count": 4,
   "metadata": {
    "collapsed": true,
    "jupyter": {
     "outputs_hidden": true
    }
   },
   "outputs": [
    {
     "name": "stdout",
     "output_type": "stream",
     "text": [
      "[0, 1, 2]\n",
      "[0, 1, 2]\n",
      "[0, 1, 2]\n",
      "[0, 1, 2]\n",
      "[0, 1, 2]\n",
      "[0, 1, 2]\n",
      "[0, 1, 2]\n"
     ]
    }
   ],
   "source": [
    "# Create a 5 x 5 matrix using a list of lists: matrix\n",
    "matrix = [[col for col in range(3)] for row in range(7)]\n",
    "\n",
    "# Print the matrix\n",
    "for row in matrix:\n",
    "    print(row)\n"
   ]
  },
  {
   "cell_type": "code",
   "execution_count": null,
   "metadata": {
    "collapsed": true,
    "jupyter": {
     "outputs_hidden": true
    }
   },
   "outputs": [],
   "source": [
    "#Conditionals in Comprehenshions Predicate\n",
    "[num ** 2 for num in range(10) if num % 2 == 0]"
   ]
  },
  {
   "cell_type": "code",
   "execution_count": null,
   "metadata": {
    "collapsed": true,
    "jupyter": {
     "outputs_hidden": true
    }
   },
   "outputs": [],
   "source": [
    "#Dict Comprehenshions\n",
    "pos_neg = {num : -num for num in range(10)}\n",
    "print(pos_neg)"
   ]
  },
  {
   "cell_type": "code",
   "execution_count": null,
   "metadata": {
    "collapsed": true,
    "jupyter": {
     "outputs_hidden": true
    }
   },
   "outputs": [],
   "source": [
    "#Conditionals in Comprehenshions Output Expression\n",
    "# Create a list of strings: fellowship\n",
    "fellowship = ['frodo', 'samwise', 'merry', 'aragorn', 'legolas', 'boromir', 'gimli']\n",
    "\n",
    "# Create list comprehension: new_fellowship\n",
    "new_fellowship = [member if len(member) >= 7 else \"\" for member in fellowship]\n",
    "\n",
    "# Print the new list\n",
    "print(new_fellowship)"
   ]
  },
  {
   "cell_type": "code",
   "execution_count": null,
   "metadata": {
    "collapsed": true,
    "jupyter": {
     "outputs_hidden": true
    }
   },
   "outputs": [],
   "source": [
    "#Generators\n",
    "#Same as list, except they produce Generator objects and are computed when needed...not stored in memmory\n",
    "result = (num for num in range(31))\n",
    "\n",
    "print(next(result))\n",
    "print(next(result))"
   ]
  },
  {
   "cell_type": "code",
   "execution_count": null,
   "metadata": {},
   "outputs": [],
   "source": []
  },
  {
   "cell_type": "code",
   "execution_count": null,
   "metadata": {
    "collapsed": true,
    "jupyter": {
     "outputs_hidden": true
    }
   },
   "outputs": [],
   "source": [
    "# Create a list of strings: lannister\n",
    "lannister = ['cersei', 'jaime', 'tywin', 'tyrion', 'joffrey']\n",
    "\n",
    "# Create a generator object: lengths\n",
    "lengths = (len(person) for person in lannister)\n",
    "\n",
    "# Iterate over and print the values in lengths\n",
    "for value in lengths:\n",
    "    print(value)\n"
   ]
  },
  {
   "cell_type": "code",
   "execution_count": null,
   "metadata": {
    "collapsed": true,
    "jupyter": {
     "outputs_hidden": true
    }
   },
   "outputs": [],
   "source": [
    "#Generator functions are functions that, like generator expressions, yield a series of values, \n",
    "#instead of returning a single value.\n",
    "\n",
    "lannister = ['cersei', 'jaime', 'tywin', 'tyrion', 'joffrey']\n",
    "\n",
    "# Define generator function get_lengths\n",
    "def get_lengths(input_list):\n",
    "    \"\"\"Generator function that yields the\n",
    "    length of the strings in input_list.\"\"\"\n",
    "\n",
    "    # Yield the length of a string\n",
    "    for person in input_list:\n",
    "        yield len(person)\n",
    "\n",
    "\n",
    "for value in get_lengths(lannister):\n",
    "    print(value)"
   ]
  },
  {
   "cell_type": "markdown",
   "metadata": {},
   "source": [
    "# Functional Programming"
   ]
  },
  {
   "cell_type": "raw",
   "metadata": {},
   "source": [
    "Functional programming involves several principles. Functions should be limited in scope and functionality, no side effects from computation, \n",
    "functions are first class citizens, and computation is the evaluation of functions."
   ]
  },
  {
   "cell_type": "code",
   "execution_count": 1,
   "metadata": {},
   "outputs": [
    {
     "data": {
      "text/plain": [
       "[1, 2, 3, 4, 5]"
      ]
     },
     "execution_count": 1,
     "metadata": {},
     "output_type": "execute_result"
    }
   ],
   "source": [
    "# Lists are mutable types, meaning if we call the sort() method on the list, this will alter the list everywhere.\n",
    "somelist = [5, 3, 4, 1, 2]\n",
    "somelist.sort()\n",
    "somelist"
   ]
  },
  {
   "cell_type": "code",
   "execution_count": 2,
   "metadata": {},
   "outputs": [
    {
     "data": {
      "text/plain": [
       "[1, 2, 3, 4, 5]"
      ]
     },
     "execution_count": 2,
     "metadata": {},
     "output_type": "execute_result"
    }
   ],
   "source": [
    "# However the built-in function sorted() will create a copy, sort that copy, and return the copy.\n",
    "somelist = [5, 3, 4, 1, 2]\n",
    "sorted(somelist)"
   ]
  },
  {
   "cell_type": "code",
   "execution_count": 3,
   "metadata": {},
   "outputs": [
    {
     "data": {
      "text/plain": [
       "[('coconut', 1),\n",
       " ('apple', 2),\n",
       " ('durian', 3),\n",
       " ('elderberries', 4),\n",
       " ('banana', 5)]"
      ]
     },
     "execution_count": 3,
     "metadata": {},
     "output_type": "execute_result"
    }
   ],
   "source": [
    "# operator.itemgetter()gets items from an object that supports that operation. We use it to get keys from dicts but it has other uses too.\n",
    "# operator.attrgetter() gets attributes from an object.\n",
    "\n",
    "from operator import itemgetter\n",
    "\n",
    "fruit_list = [\n",
    "    ('apple', 2),\n",
    "    ('banana', 5),\n",
    "    ('coconut', 1),\n",
    "    ('durian', 3),\n",
    "    ('elderberries', 4)\n",
    "]\n",
    "\n",
    "sorted_fruit = sorted(fruit_list, key=itemgetter(1)) #Sorted by the second item in the tuple\n",
    "sorted_fruit"
   ]
  },
  {
   "cell_type": "code",
   "execution_count": 4,
   "metadata": {},
   "outputs": [
    {
     "data": {
      "text/plain": [
       "[datetime.datetime(2012, 8, 9, 14, 59, 2),\n",
       " datetime.datetime(2006, 8, 15, 14, 59, 2),\n",
       " datetime.datetime(1981, 5, 16, 2, 10, 42),\n",
       " datetime.datetime(2015, 4, 29, 10, 15, 39)]"
      ]
     },
     "execution_count": 4,
     "metadata": {},
     "output_type": "execute_result"
    }
   ],
   "source": [
    "import datetime\n",
    "from operator import attrgetter\n",
    "\n",
    "date_list = [\n",
    "    datetime.datetime(2015, 4, 29, 10, 15, 39),\n",
    "    datetime.datetime(2006, 8, 15, 14, 59, 2),\n",
    "    datetime.datetime(1981, 5, 16, 2, 10, 42),\n",
    "    datetime.datetime(2012, 8, 9, 14, 59, 2),\n",
    "]\n",
    "\n",
    "sorted_dates = sorted(date_list, key=attrgetter('day'))\n",
    "sorted_dates"
   ]
  },
  {
   "cell_type": "markdown",
   "metadata": {},
   "source": [
    "# Map"
   ]
  },
  {
   "cell_type": "raw",
   "metadata": {},
   "source": [
    "Map takes a function and an interable. It applies the function to every element in the iterable, and returns the new iterable."
   ]
  },
  {
   "cell_type": "code",
   "execution_count": 5,
   "metadata": {},
   "outputs": [
    {
     "data": {
      "text/plain": [
       "[8.0, 7.2, 9.600000000000001, 10.4, 4.800000000000001]"
      ]
     },
     "execution_count": 5,
     "metadata": {},
     "output_type": "execute_result"
    }
   ],
   "source": [
    "prices = [10.0, 9.0, 12.0, 13.0, 6.0]\n",
    "\n",
    "def discount_by_20(val):\n",
    "    return val*.8\n",
    "\n",
    "discounted_books = list(map(discount_by_20, prices)) #Don't pass arg into func\n",
    "discounted_books"
   ]
  },
  {
   "cell_type": "code",
   "execution_count": 6,
   "metadata": {},
   "outputs": [
    {
     "data": {
      "text/plain": [
       "[8.0, 7.2, 9.600000000000001, 10.4, 4.800000000000001]"
      ]
     },
     "execution_count": 6,
     "metadata": {},
     "output_type": "execute_result"
    }
   ],
   "source": [
    "# As a list comprehension \n",
    "discounted_books_2 = [discount_by_20(price) for price in prices]\n",
    "discounted_books_2"
   ]
  },
  {
   "cell_type": "markdown",
   "metadata": {},
   "source": [
    "# Filter"
   ]
  },
  {
   "cell_type": "raw",
   "metadata": {},
   "source": [
    "Filter() takes a function and an iterable, applies the func to each element in the iterable, and returns a list of all elements that\n",
    "resulted in a Truth value."
   ]
  },
  {
   "cell_type": "code",
   "execution_count": 7,
   "metadata": {},
   "outputs": [
    {
     "data": {
      "text/plain": [
       "[10.0, 12.0, 13.0]"
      ]
     },
     "execution_count": 7,
     "metadata": {},
     "output_type": "execute_result"
    }
   ],
   "source": [
    "prices = [10.0, 9.0, 12.0, 13.0, 6.0]\n",
    "\n",
    "def greater_than_ten(someIter):\n",
    "    return someIter >= 10\n",
    "\n",
    "list(filter(greater_than_ten, prices))"
   ]
  },
  {
   "cell_type": "code",
   "execution_count": 8,
   "metadata": {},
   "outputs": [
    {
     "name": "stdout",
     "output_type": "stream",
     "text": [
      "[True, False, True, True, False]\n",
      "[10.0, 12.0, 13.0]\n"
     ]
    }
   ],
   "source": [
    "# As a list comprehension \n",
    "greater_than_10 = [greater_than_ten(price) for price in prices]\n",
    "print(greater_than_10)\n",
    "\n",
    "greater_than_10_2 = [price for price in prices if price >= 10]\n",
    "print(greater_than_10_2)"
   ]
  },
  {
   "cell_type": "markdown",
   "metadata": {},
   "source": [
    "# Reduce"
   ]
  },
  {
   "cell_type": "raw",
   "metadata": {},
   "source": [
    "Reduce() is iterative takes two arguments. \n",
    "On the first iteration it takes the first and second elements of an iterable, applies a function and returns a value. \n",
    "On the second iteration, the first argument is the result of the prior iteration and the second argument will be the next element in the \n",
    "iterable. This process repeats until it has iterated through all elements and returns the final result. \n",
    "\n",
    "Reduce is recursive; meaning a function that calls itself."
   ]
  },
  {
   "cell_type": "code",
   "execution_count": 28,
   "metadata": {},
   "outputs": [
    {
     "data": {
      "text/plain": [
       "120"
      ]
     },
     "execution_count": 28,
     "metadata": {},
     "output_type": "execute_result"
    }
   ],
   "source": [
    "from functools import reduce\n",
    "\n",
    "nums = [1, 2, 3, 4, 5]\n",
    "\n",
    "def product(x, y):\n",
    "    return x * y\n",
    "\n",
    "final_product = reduce(product, nums)\n",
    "final_product"
   ]
  },
  {
   "cell_type": "markdown",
   "metadata": {},
   "source": [
    "# Recursive in detail"
   ]
  },
  {
   "cell_type": "code",
   "execution_count": 29,
   "metadata": {},
   "outputs": [
    {
     "data": {
      "text/plain": [
       "{'Flask Basics',\n",
       " 'Object-Oriented Python',\n",
       " 'Python Basics',\n",
       " 'Python Collections',\n",
       " 'Setting Up a Local Python Environment'}"
      ]
     },
     "execution_count": 29,
     "metadata": {},
     "output_type": "execute_result"
    }
   ],
   "source": [
    "from operator import add\n",
    "\n",
    "courses = {'count': 2,\n",
    "           'title': 'Django Basics',\n",
    "           'prereqs': [{'count': 3,\n",
    "                     'title': 'Object-Oriented Python',\n",
    "                     'prereqs': [{'count': 1,\n",
    "                               'title': 'Python Collections',\n",
    "                               'prereqs': [{'count':0,\n",
    "                                         'title': 'Python Basics',\n",
    "                                         'prereqs': []}]},\n",
    "                              {'count': 0,\n",
    "                               'title': 'Python Basics',\n",
    "                               'prereqs': []},\n",
    "                              {'count': 0,\n",
    "                               'title': 'Setting Up a Local Python Environment',\n",
    "                               'prereqs': []}]},\n",
    "                     {'count': 0,\n",
    "                      'title': 'Flask Basics',\n",
    "                      'prereqs': []}]}\n",
    "\n",
    "def prereqs(data, pres=None):\n",
    "    \n",
    "    pres = pres or set()\n",
    "    \n",
    "    # for each prereq in this courses' prereqs...\n",
    "    for prereq in data['prereqs']:\n",
    "        \n",
    "        # add title of this prereq course, then...\n",
    "        pres.add(prereq['title'])\n",
    "       \n",
    "        # use recursive call to find further prerequisites of this course, if any\n",
    "        prereqs(prereq, pres)\n",
    "   \n",
    "    # return current \n",
    "    return pres\n",
    "\n",
    "prereqs(courses)"
   ]
  },
  {
   "cell_type": "markdown",
   "metadata": {},
   "source": [
    "# Lambdas"
   ]
  },
  {
   "cell_type": "raw",
   "metadata": {},
   "source": [
    "Lambdas are anonymous fucntions. Lambdas can't contain new lines (outside of containers) or assignments."
   ]
  },
  {
   "cell_type": "code",
   "execution_count": 32,
   "metadata": {},
   "outputs": [
    {
     "data": {
      "text/plain": [
       "<function __main__.<lambda>>"
      ]
     },
     "execution_count": 32,
     "metadata": {},
     "output_type": "execute_result"
    }
   ],
   "source": [
    "lambda x, y: x + y"
   ]
  },
  {
   "cell_type": "code",
   "execution_count": 69,
   "metadata": {},
   "outputs": [
    {
     "data": {
      "text/plain": [
       "[{'calories': 1500, 'name': 'large pizza'},\n",
       " {'calories': 1050, 'name': 'burrito'}]"
      ]
     },
     "execution_count": 69,
     "metadata": {},
     "output_type": "execute_result"
    }
   ],
   "source": [
    "meals = [\n",
    "    {'name': 'cheeseburger',\n",
    "     'calories': 750},\n",
    "    {'name': 'cobb salad',\n",
    "     'calories': 250},\n",
    "    {'name': 'large pizza',\n",
    "     'calories': 1500},\n",
    "    {'name': 'burrito',\n",
    "     'calories': 1050},\n",
    "    {'name': 'stir fry',\n",
    "     'calories': 625}\n",
    "]\n",
    "\n",
    "high_cal = filter(lambda meal: meal['calories'] > 1000, meals)\n",
    "list(high_cal)"
   ]
  },
  {
   "cell_type": "code",
   "execution_count": 74,
   "metadata": {},
   "outputs": [
    {
     "data": {
      "text/plain": [
       "\"My grandmother started walking five miles a day when she was sixty. She's ninety-seven know and we don't know where she is.\""
      ]
     },
     "execution_count": 74,
     "metadata": {},
     "output_type": "execute_result"
    }
   ],
   "source": [
    "from functools import reduce\n",
    "\n",
    "strings = [\n",
    "    \"Do not take life too seriously. You will never get out of it alive.\",\n",
    "    \"My fake plants died because I did not pretend to water them.\",\n",
    "    \"A day without sunshine is like, you know, night.\",\n",
    "    \"Get your facts first, then you can distort them as you please.\",\n",
    "    \"My grandmother started walking five miles a day when she was sixty. She's ninety-seven know and we don't know where she is.\",\n",
    "    \"Life is hard. After all, it kills you.\",\n",
    "    \"All my life, I always wanted to be somebody. Now I see that I should have been more specific.\",\n",
    "    \"Everyone's like, 'overnight sensation.' It's not overnight. It's years of hard work.\",\n",
    "]\n",
    "\n",
    "longest = reduce(lambda string1, string2: string1 if len(string1) >  len(string2) else string2 , strings)\n",
    "longest"
   ]
  },
  {
   "cell_type": "markdown",
   "metadata": {},
   "source": [
    "# Partials and Currying"
   ]
  },
  {
   "cell_type": "raw",
   "metadata": {},
   "source": [
    "Partials allow us to create functions with an incomplete (or partial) list of arguments.\n",
    "Currying allows us to return an alternate versions of our function, from inside the function based on the number of arguments we passed."
   ]
  },
  {
   "cell_type": "code",
   "execution_count": 68,
   "metadata": {},
   "outputs": [
    {
     "name": "stdout",
     "output_type": "stream",
     "text": [
      "8\n"
     ]
    }
   ],
   "source": [
    "from functools import partial\n",
    "\n",
    "def multiply(x,y):\n",
    "        return x * y\n",
    "\n",
    "# create a new function that multiplies by 2\n",
    "dbl = partial(multiply,2)\n",
    "print(dbl(4))"
   ]
  },
  {
   "cell_type": "markdown",
   "metadata": {},
   "source": [
    "# Excersizes"
   ]
  },
  {
   "cell_type": "code",
   "execution_count": null,
   "metadata": {},
   "outputs": [],
   "source": [
    "def word_count(str):\n",
    "    str = str.lower()\n",
    "    list = str.split()\n",
    "    \n",
    "    dict = {}\n",
    "\n",
    "    for k in list:\n",
    "        count = list.count(k)\n",
    "        dict[k] = count\n",
    "    \n",
    "    return dict\n",
    "    \n",
    "word_count('I like people, I like pets and I like ice cream')"
   ]
  },
  {
   "cell_type": "code",
   "execution_count": null,
   "metadata": {},
   "outputs": [],
   "source": [
    "teach_dict = {'Andrew Chalkley': ['jQuery Basics', 'Node.js Basics'],\n",
    "              'Kenneth Love': ['Python Basics'],\n",
    "              'Peter':['qwe', 'qwee', 'asd']}\n",
    "\n",
    "def num_teachers(dict):\n",
    "        return len(dict)\n",
    "\n",
    "def num_courses(dict):\n",
    "    array = []\n",
    "    total = 0\n",
    "        \n",
    "    for k in dict:\n",
    "        array.append(len(dict[k]))\n",
    "    \n",
    "    for i in array:\n",
    "        total+= int(i)\n",
    "    \n",
    "    return total\n",
    "\n",
    "def courses(dict):\n",
    "    array = []\n",
    "        \n",
    "    for k in dict:\n",
    "        array.extend(dict[k])\n",
    "    \n",
    "    return array\n",
    "\n",
    "def most_courses(dict):\n",
    "    \n",
    "    max_val = 0\n",
    "    max_teacher = 'someone'\n",
    "    \n",
    "    for k, v in dict.items():\n",
    "        if len(v) > max_val:\n",
    "            max_val = len(v)\n",
    "            max_teacher = k\n",
    "        \n",
    "    return max_teacher\n",
    "\n",
    "def stats(dict):\n",
    "    array = []\n",
    "    \n",
    "    for k, v, in dict.items():\n",
    "        array.append([k, len(v)])\n",
    "        \n",
    "    return array\n",
    "    "
   ]
  },
  {
   "cell_type": "code",
   "execution_count": null,
   "metadata": {},
   "outputs": [],
   "source": [
    "def multiply(*args):\n",
    "    total = 1\n",
    "    \n",
    "    for num in args:\n",
    "        total *= num\n",
    "        \n",
    "    return total\n",
    "\n",
    "multiply(2, 5, 5, 2)\n",
    "        "
   ]
  },
  {
   "cell_type": "code",
   "execution_count": 59,
   "metadata": {},
   "outputs": [
    {
     "data": {
      "text/plain": [
       "('THIS IS A SINGLE STRING',\n",
       " 'this is a single string',\n",
       " 'This Is A Single String',\n",
       " 'gnirts elgnis a si siht')"
      ]
     },
     "execution_count": 59,
     "metadata": {},
     "output_type": "execute_result"
    }
   ],
   "source": [
    "def stringcases(str):\n",
    "    a = str.upper()\n",
    "    b = str.lower()\n",
    "    c = str.title()\n",
    "    d = str[::-1]\n",
    "    \n",
    "    return a, b, c, d\n",
    "\n",
    "stringcases('this is a single string')\n",
    "    "
   ]
  },
  {
   "cell_type": "code",
   "execution_count": 60,
   "metadata": {},
   "outputs": [
    {
     "data": {
      "text/plain": [
       "[('P', 'C'), ('e', 'o'), ('t', 'r'), ('e', 'r'), ('r', 'e')]"
      ]
     },
     "execution_count": 60,
     "metadata": {},
     "output_type": "execute_result"
    }
   ],
   "source": [
    "def combo(item1, item2):\n",
    "    array1 = []\n",
    "    array2 = []\n",
    "    \n",
    "    for v in item1:\n",
    "        array1.append(v)\n",
    "    \n",
    "    for v in item2:\n",
    "        array2.append(v)\n",
    "        \n",
    "    l = zip(array1, array2)\n",
    "    return list(l)\n",
    "        \n",
    "combo('Peter', 'Corre')"
   ]
  },
  {
   "cell_type": "code",
   "execution_count": 61,
   "metadata": {},
   "outputs": [],
   "source": [
    "def combo2(item1, item2):\n",
    "    array = []\n",
    "    \n",
    "    for i in range(0, len(item1)):\n",
    "        array+= (item1[i], item2[i]), #this comma is what creates the tuples within the list\n",
    "        \n",
    "    return array"
   ]
  },
  {
   "cell_type": "code",
   "execution_count": 62,
   "metadata": {},
   "outputs": [
    {
     "ename": "SyntaxError",
     "evalue": "invalid syntax (<ipython-input-62-a386d98d929c>, line 27)",
     "output_type": "error",
     "traceback": [
      "\u001b[0;36m  File \u001b[0;32m\"<ipython-input-62-a386d98d929c>\"\u001b[0;36m, line \u001b[0;32m27\u001b[0m\n\u001b[0;31m    var = to_set.\u001b[0m\n\u001b[0m                 ^\u001b[0m\n\u001b[0;31mSyntaxError\u001b[0m\u001b[0;31m:\u001b[0m invalid syntax\n"
     ]
    }
   ],
   "source": [
    "COURSES = {\n",
    "    \"Python Basics\": {\"Python\", \"functions\", \"variables\",\n",
    "                      \"booleans\", \"integers\", \"floats\",\n",
    "                      \"arrays\", \"strings\", \"exceptions\",\n",
    "                      \"conditions\", \"input\", \"loops\"},\n",
    "    \"Java Basics\": {\"Java\", \"strings\", \"variables\",\n",
    "                    \"input\", \"exceptions\", \"integers\",\n",
    "                    \"booleans\", \"loops\"},\n",
    "    \"PHP Basics\": {\"PHP\", \"variables\", \"conditions\",\n",
    "                   \"integers\", \"floats\", \"strings\",\n",
    "                   \"booleans\", \"HTML\"},\n",
    "    \"Ruby Basics\": {\"Ruby\", \"strings\", \"floats\",\n",
    "                    \"integers\", \"conditions\",\n",
    "                    \"functions\", \"input\"}\n",
    "}\n",
    "\n",
    "\n",
    "\n",
    "\n",
    "def covers(param):\n",
    "    \n",
    "    to_set = set(param)\n",
    "    \n",
    "    courses = []\n",
    "    \n",
    "    for k,i in COURSES.items():\n",
    "        var = to_set.\n",
    "        courses.append(var)\n",
    "    \n",
    "    return courses\n",
    "\n",
    "covers('Python')"
   ]
  },
  {
   "cell_type": "code",
   "execution_count": 1,
   "metadata": {},
   "outputs": [
    {
     "name": "stdout",
     "output_type": "stream",
     "text": [
      "x_set equals: {'conditions', 'input'} of type: <class 'set'>\n",
      " \n"
     ]
    },
    {
     "data": {
      "text/plain": [
       "['Python Basics', 'Ruby Basics']"
      ]
     },
     "execution_count": 1,
     "metadata": {},
     "output_type": "execute_result"
    }
   ],
   "source": [
    "COURSES = {\n",
    "    \"Python Basics\": {\"Python\", \"functions\", \"variables\",\n",
    "                      \"booleans\", \"integers\", \"floats\",\n",
    "                      \"arrays\", \"strings\", \"exceptions\",\n",
    "                      \"conditions\", \"input\", \"loops\"},\n",
    "    \"Java Basics\": {\"Java\", \"strings\", \"variables\",\n",
    "                    \"input\", \"exceptions\", \"integers\",\n",
    "                    \"booleans\", \"loops\"},\n",
    "    \"PHP Basics\": {\"PHP\", \"variables\", \"conditions\",\n",
    "                   \"integers\", \"floats\", \"strings\",\n",
    "                   \"booleans\", \"HTML\"},\n",
    "    \"Ruby Basics\": {\"Ruby\", \"strings\", \"floats\",\n",
    "                    \"integers\", \"conditions\",\n",
    "                    \"functions\", \"input\"}\n",
    "}\n",
    "\n",
    "def covers_all(x):\n",
    "\n",
    "    x_set = set(x)\n",
    "    courses_list = []\n",
    "    print('x_set equals: {} of type: {}'.format(x_set, type(x_set)))\n",
    "    print(' ')\n",
    "    \n",
    "    for course, i in COURSES.items():\n",
    "\n",
    "        if bool(x_set.issubset(x_set.intersection(COURSES[course]))) == True:\n",
    "            courses_list.append(course)\n",
    "    \n",
    "    return (courses_list) \n",
    "    \n",
    "   \n",
    "covers_all({\"conditions\", \"input\"})"
   ]
  },
  {
   "cell_type": "code",
   "execution_count": 2,
   "metadata": {},
   "outputs": [
    {
     "name": "stdout",
     "output_type": "stream",
     "text": [
      "[('a', '1'), ('a', '2'), ('a', '3'), ('b', '1'), ('b', '2'), ('b', '3'), ('c', '1'), ('c', '2'), ('c', '3')]\n"
     ]
    }
   ],
   "source": [
    "inner = '123'\n",
    "outer = 'abc'\n",
    "\n",
    "var = [(x, y) for x in outer for y in inner]\n",
    "print(var)"
   ]
  }
 ],
 "metadata": {
  "kernelspec": {
   "display_name": "Python 3",
   "language": "python",
   "name": "python3"
  },
  "language_info": {
   "codemirror_mode": {
    "name": "ipython",
    "version": 3
   },
   "file_extension": ".py",
   "mimetype": "text/x-python",
   "name": "python",
   "nbconvert_exporter": "python",
   "pygments_lexer": "ipython3",
   "version": "3.7.3"
  }
 },
 "nbformat": 4,
 "nbformat_minor": 4
}
