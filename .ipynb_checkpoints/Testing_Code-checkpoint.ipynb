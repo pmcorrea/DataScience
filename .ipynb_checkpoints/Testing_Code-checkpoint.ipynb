{
 "cells": [
  {
   "cell_type": "markdown",
   "metadata": {},
   "source": [
    "# Basic Structure of a Test"
   ]
  },
  {
   "cell_type": "code",
   "execution_count": 1,
   "metadata": {},
   "outputs": [
    {
     "name": "stderr",
     "output_type": "stream",
     "text": [
      "...\n",
      "----------------------------------------------------------------------\n",
      "Ran 3 tests in 0.005s\n",
      "\n",
      "OK\n"
     ]
    }
   ],
   "source": [
    "import unittest\n",
    "\n",
    "class someTestClass(unittest.TestCase):\n",
    "    \n",
    "    def test_five_plus_five(self):\n",
    "        assert 5 + 5 == 10\n",
    "        \n",
    "    def test_one_plus_one(self):\n",
    "        assert 1 + 1 == 2\n",
    "        \n",
    "    def test_raises(self):\n",
    "        with self.assertRaises(TypeError):\n",
    "            assert 1 + str('a') == 2\n",
    "        \n",
    "if __name__ == '__main__':\n",
    "    unittest.main(argv=['first-arg-is-ignored'], exit=False)\n",
    "    \n",
    "#   unittest.main() if being ran from the terminal \n",
    "#   then use 'python -m unittest script.py' to run the test"
   ]
  },
  {
   "cell_type": "raw",
   "metadata": {},
   "source": [
    "# Assertions"
   ]
  },
  {
   "cell_type": "code",
   "execution_count": 21,
   "metadata": {},
   "outputs": [],
   "source": [
    "# setUp() - Method that is run before each test. Use this to set up state for the tests\n",
    "# assertEqual(x, y) - Make sure x and y are equal\n",
    "# assertNotEqual(x, y) - Make sure x and y are not equal\n",
    "# assertGreater(x, y) - Make sure x is greater than y\n",
    "# assertLess(x, y) - Make sure x is less than y\n",
    "# assertIn(x, y) - Make sure x is a member of y (this is like the in keyword)\n",
    "# assertIsInstance(x, y) - Make sure x is an instance of the y class\n",
    "# assertGreaterEqual(x, y) - Make sure x is greater than or equal to y\n",
    "# assertLessEqual(x, y) - Make sure x is less than or equal to y\n",
    "\n",
    "# assertRaises(x) - Make sure the following code raises the x exception, must use 'with'\n",
    "\n",
    "# assert vs self.assertTrue()\n",
    "# The built-in command assert throws an AssertionError that does not have built-in handling and your program and test will halt at he error.\n",
    "# Using self.assertFalse(), which comes from unittest.TestCase.assertFalse(), has built in \n",
    "# logging and error handling to allow all tests to run to Error, Failure, or Success."
   ]
  },
  {
   "cell_type": "markdown",
   "metadata": {},
   "source": [
    "# Coverage"
   ]
  },
  {
   "cell_type": "code",
   "execution_count": null,
   "metadata": {},
   "outputs": [],
   "source": [
    "#Must have __name__ == '__main__': line in script\n",
    "coverage run someScript.py #First call the run method\n",
    "coverage report -m  #Then bring up the report\n",
    "coverage html #Create a folder in dir with html to visually see coverage\n",
    "coverage -m http.server #Creates simple server"
   ]
  }
 ],
 "metadata": {
  "kernelspec": {
   "display_name": "Python 3",
   "language": "python",
   "name": "python3"
  },
  "language_info": {
   "codemirror_mode": {
    "name": "ipython",
    "version": 3
   },
   "file_extension": ".py",
   "mimetype": "text/x-python",
   "name": "python",
   "nbconvert_exporter": "python",
   "pygments_lexer": "ipython3",
   "version": "3.6.8"
  }
 },
 "nbformat": 4,
 "nbformat_minor": 2
}
