{
 "cells": [
  {
   "cell_type": "code",
   "execution_count": 55,
   "metadata": {
    "scrolled": true
   },
   "outputs": [],
   "source": [
    "import numpy as np\n",
    "import matplotlib.pyplot as plt\n",
    "\n",
    "\n",
    "#Percentiles\n",
    "#np.percentile(df['column'], [25, 50, 75])\n",
    "\n",
    "#Statistics Summary\n",
    "#np.mean(date)\n",
    "#np.var(data)\n",
    "#np.std(data)\n",
    "#np.cov(x, y) #[0][1] is the covariance\n",
    "#np.corrcoef() #pearson correaltion coefficient...no dimentions/units, [0][1] is the covariance\n",
    "\n",
    "#Hacker Statistics\n",
    "#np.random.random(size=4) #a number 0-1, 4 times\n",
    "#np.random.seed(42)"
   ]
  },
  {
   "cell_type": "markdown",
   "metadata": {},
   "source": [
    "# The CDF"
   ]
  },
  {
   "cell_type": "markdown",
   "metadata": {},
   "source": [
    "A Cumulative Distribution Function measures the probability of a variable taking on a specific value or less"
   ]
  },
  {
   "cell_type": "code",
   "execution_count": 15,
   "metadata": {
    "scrolled": true
   },
   "outputs": [],
   "source": [
    "def ecdf(data):\n",
    "    \n",
    "    # Determine total data points\n",
    "    n=len(data)\n",
    "\n",
    "    # Sort the x-values\n",
    "    x = np.sort(data)\n",
    "\n",
    "    # Create evenly spaced y-axis; arange is exclusive; divide by itself to create a y-limit of 1.00\n",
    "    y = np.arange(1, n+1) / n\n",
    "\n",
    "    return x, y"
   ]
  },
  {
   "cell_type": "markdown",
   "metadata": {},
   "source": [
    "# Bernoulli Trials"
   ]
  },
  {
   "cell_type": "markdown",
   "metadata": {},
   "source": [
    "Bernoulli trails represent either a success or a failure, are independent of eachother, and are binomally distributed"
   ]
  },
  {
   "cell_type": "code",
   "execution_count": 16,
   "metadata": {
    "scrolled": true
   },
   "outputs": [
    {
     "data": {
      "text/plain": [
       "3"
      ]
     },
     "execution_count": 16,
     "metadata": {},
     "output_type": "execute_result"
    }
   ],
   "source": [
    "def perform_bernoulli_trials(n, p):\n",
    "\n",
    "    # Initialize number of successes\n",
    "    n_success = 0\n",
    "\n",
    "    # Perform trials\n",
    "    for item in range(n):\n",
    "        \n",
    "        # Choose random number between zero and one\n",
    "        random_number = np.random.random()\n",
    "\n",
    "        # If less than p, it's a success\n",
    "        if random_number < p:\n",
    "            n_success += 1\n",
    "\n",
    "    return n_success\n",
    "    \n",
    "perform_bernoulli_trials(100, .05)\n",
    "\n",
    "#Numpy equivilant\n",
    "#np.random.binomial(100, 0.05, 10000)"
   ]
  },
  {
   "cell_type": "markdown",
   "metadata": {},
   "source": [
    "Problem: Let's say a bank made 100 mortgage loans. It's possible that anywhere between 0 and 100 of the loans will default. You would like to know the probability of getting a given number of defaults, given that the probability of a default is p = 0.05. Use a sample size of 1000"
   ]
  },
  {
   "cell_type": "code",
   "execution_count": 17,
   "metadata": {
    "scrolled": true
   },
   "outputs": [
    {
     "data": {
      "image/png": "[encoded data removed]",
      "text/plain": [
       "<matplotlib.figure.Figure at 0x110fe20b8>"
      ]
     },
     "metadata": {},
     "output_type": "display_data"
    }
   ],
   "source": [
    "np.random.seed(42) #For reproducibility\n",
    "\n",
    "# Initialize the number of defaults\n",
    "n_defaults = np.empty(1000)\n",
    "\n",
    "# Compute the number of defaults\n",
    "for i in range(1000):\n",
    "\n",
    "    n_defaults[i] = perform_bernoulli_trials(100, 0.05)\n",
    "\n",
    "\n",
    "# Plot the histogram\n",
    "_ = plt.hist(n_defaults, normed=True)\n",
    "_ = plt.xlabel('number of defaults out of 100 loans')\n",
    "_ = plt.ylabel('probability')\n",
    "plt.show()"
   ]
  },
  {
   "cell_type": "markdown",
   "metadata": {},
   "source": [
    "Problem: The bank will lose money if 10 or more of its loans are defaulted upon, what is the probability that the bank will lose money?"
   ]
  },
  {
   "cell_type": "code",
   "execution_count": 18,
   "metadata": {
    "scrolled": true
   },
   "outputs": [
    {
     "data": {
      "image/png": "[encoded data removed]",
      "text/plain": [
       "<matplotlib.figure.Figure at 0x110fc4f60>"
      ]
     },
     "metadata": {},
     "output_type": "display_data"
    },
    {
     "name": "stdout",
     "output_type": "stream",
     "text": [
      "Probability of losing money = 0.022\n"
     ]
    }
   ],
   "source": [
    "# Compute ECDF\n",
    "x, y = ecdf(n_defaults)\n",
    "\n",
    "# Plot the CDF with labeled axes\n",
    "_ = plt.plot(x, y, marker='.', linestyle='none')\n",
    "_ = plt.xlabel('number of defaults out of 100')\n",
    "_ = plt.ylabel('CDF')\n",
    "\n",
    "# Show the plot\n",
    "plt.show()\n",
    "\n",
    "# Compute the number of 100-loan simulations with 10 or more defaults: n_lose_money\n",
    "n_lose_money = np.sum(n_defaults >= 10)\n",
    "\n",
    "# Compute and print probability of losing money\n",
    "print('Probability of losing money =', n_lose_money / len(n_defaults))"
   ]
  },
  {
   "cell_type": "markdown",
   "metadata": {},
   "source": [
    "# Distributions  for Discrete Variables\n",
    "### Binomial Distribution"
   ]
  },
  {
   "cell_type": "code",
   "execution_count": 19,
   "metadata": {
    "scrolled": true
   },
   "outputs": [
    {
     "data": {
      "image/png": "[encoded data removed]",
      "text/plain": [
       "<matplotlib.figure.Figure at 0x110e5d470>"
      ]
     },
     "metadata": {},
     "output_type": "display_data"
    }
   ],
   "source": [
    "np.random.seed(42)\n",
    "binomial = np.random.binomial(60, 0.1, 100)\n",
    "plt.hist(binomial, normed=True)\n",
    "plt.show()"
   ]
  },
  {
   "cell_type": "markdown",
   "metadata": {},
   "source": [
    "### Binomial CDF"
   ]
  },
  {
   "cell_type": "code",
   "execution_count": 20,
   "metadata": {
    "scrolled": true
   },
   "outputs": [
    {
     "data": {
      "image/png": "[encoded data removed]",
      "text/plain": [
       "<matplotlib.figure.Figure at 0x111051160>"
      ]
     },
     "metadata": {},
     "output_type": "display_data"
    }
   ],
   "source": [
    "x, y = ecdf(binomial)\n",
    "plt.plot(x, y, linestyle='none', marker='.')\n",
    "plt.show()"
   ]
  },
  {
   "cell_type": "markdown",
   "metadata": {},
   "source": [
    "### Poisson Distribution"
   ]
  },
  {
   "cell_type": "code",
   "execution_count": 21,
   "metadata": {
    "scrolled": true
   },
   "outputs": [],
   "source": [
    "poisson = np.random.poisson(6, 1000) #mean, size"
   ]
  },
  {
   "cell_type": "markdown",
   "metadata": {},
   "source": [
    "# Distributions  for Continuous Variables\n",
    "### Normal Distribution (Gaussian Distribution)"
   ]
  },
  {
   "cell_type": "code",
   "execution_count": 22,
   "metadata": {
    "scrolled": true
   },
   "outputs": [
    {
     "data": {
      "image/png": "[encoded data removed]",
      "text/plain": [
       "<matplotlib.figure.Figure at 0x1095eee80>"
      ]
     },
     "metadata": {},
     "output_type": "display_data"
    }
   ],
   "source": [
    "np.random.seed(42)\n",
    "\n",
    "samples = np.random.normal(20, 1, 1000) #mean, std, size\n",
    "plt.hist(samples, normed=True, bins=100)\n",
    "plt.show()"
   ]
  },
  {
   "cell_type": "markdown",
   "metadata": {},
   "source": [
    "Checking for Normality by Comparing CDF's"
   ]
  },
  {
   "cell_type": "code",
   "execution_count": 23,
   "metadata": {
    "scrolled": true
   },
   "outputs": [
    {
     "data": {
      "image/png": "[encoded data removed]",
      "text/plain": [
       "<matplotlib.figure.Figure at 0x110e67b00>"
      ]
     },
     "metadata": {},
     "output_type": "display_data"
    }
   ],
   "source": [
    "x_data, y_data = ecdf(data)\n",
    "\n",
    "mean = np.mean(data)\n",
    "std = np.std(data)\n",
    "theor = np.random.normal(mean, std, 1000)\n",
    "x_theor, y_theor = ecdf(theor)\n",
    "\n",
    "plt.plot(x_data, y_data, marker='.', linestyle='none')\n",
    "plt.plot(x_theor, y_theor)\n",
    "plt.show()"
   ]
  },
  {
   "cell_type": "markdown",
   "metadata": {},
   "source": [
    "### Exponential distribution"
   ]
  },
  {
   "cell_type": "code",
   "execution_count": 24,
   "metadata": {
    "scrolled": true
   },
   "outputs": [],
   "source": [
    "sample = np.random.exponential(mean, 1000)"
   ]
  },
  {
   "cell_type": "markdown",
   "metadata": {},
   "source": [
    "# Linear Regression"
   ]
  },
  {
   "cell_type": "code",
   "execution_count": 58,
   "metadata": {
    "scrolled": true
   },
   "outputs": [
    {
     "name": "stdout",
     "output_type": "stream",
     "text": [
      "Slope: 0.5 Intercept: 0.8\n"
     ]
    },
    {
     "data": {
      "image/png": "[encoded data removed]",
      "text/plain": [
       "<matplotlib.figure.Figure at 0x111a85eb8>"
      ]
     },
     "metadata": {},
     "output_type": "display_data"
    }
   ],
   "source": [
    "x_vals = np.array([1.0, 2.0, 3.0, 4.0])\n",
    "y_vals = np.array([1.5, 1.6, 2.1, 3.0])\n",
    "\n",
    "#Perform Linear Regression\n",
    "slope_theor, intercept_theor = np.polyfit(x_vals, y_vals, 1)\n",
    "print('Slope:', slope_theor, 'Intercept:' ,intercept_theor)\n",
    "\n",
    "# Make theoretical line to plot\n",
    "x_theor = np.array([0,5])\n",
    "y_theor = slope_theor * x_theor + intercept_theor\n",
    "\n",
    "# Add regression line to your plot\n",
    "plt.plot(x_theor, y_theor)\n",
    "\n",
    "plt.plot(x_vals, y_vals, color='black', marker='.', linestyle='none')\n",
    "plt.show()"
   ]
  },
  {
   "cell_type": "markdown",
   "metadata": {},
   "source": [
    "### Paramter Optimization"
   ]
  },
  {
   "cell_type": "code",
   "execution_count": 60,
   "metadata": {
    "scrolled": true
   },
   "outputs": [
    {
     "data": {
      "image/png": "[encoded data removed]",
      "text/plain": [
       "<matplotlib.figure.Figure at 0x11140f390>"
      ]
     },
     "metadata": {},
     "output_type": "display_data"
    }
   ],
   "source": [
    "possible_slopes = np.linspace(0.475, .525, 100)\n",
    "\n",
    "rss = np.empty_like(possible_slopes)\n",
    "\n",
    "for i, item in enumerate(possible_slopes):\n",
    "    rss[i] = np.sum((y_vals - item*x_vals - intercept_theor)**2)\n",
    "    \n",
    "plt.plot(possible_slopes, rss, '-')\n",
    "plt.xlabel('Possible Slopes')\n",
    "plt.ylabel('RSS')\n",
    "plt.show()"
   ]
  },
  {
   "cell_type": "markdown",
   "metadata": {},
   "source": [
    "# Bootstrapping and Resampleing "
   ]
  },
  {
   "cell_type": "markdown",
   "metadata": {},
   "source": [
    "### Generating Samples"
   ]
  },
  {
   "cell_type": "code",
   "execution_count": 46,
   "metadata": {
    "scrolled": true
   },
   "outputs": [
    {
     "name": "stdout",
     "output_type": "stream",
     "text": [
      "[3 7 9 1 9 3 5 1 9 1 1 3 1 7 5 5 1 1]\n",
      "1.8\n",
      "[ 6.2  5.8  5.8  3.4  5.   5.4  5.   3.8  3.8  4.6]\n"
     ]
    }
   ],
   "source": [
    "#Generating bootstrap sample...resampling\n",
    "dataset = [1,3,5,7,9]\n",
    "\n",
    "bs_sample = np.random.choice(dataset, len(data))\n",
    "print(bs_sample)\n",
    "\n",
    "\n",
    "#Generating a bootstrap replicate...sample statistic\n",
    "def bs_sample_stat(data, func):\n",
    "    bs_data = np.random.choice(data, len(data))\n",
    "    return func(bs_data)\n",
    "\n",
    "print(bs_sample_stat(dataset, np.mean))\n",
    "\n",
    "\n",
    "#Generating multiple bootstrap replicates...sampling distribution of a statistic\n",
    "def bs_sample_distribution(data, func, size):\n",
    "    \n",
    "    array = np.empty(size)\n",
    "    \n",
    "    for i in range(size):\n",
    "        array[i] = bs_sample_stat(data, func)\n",
    "        \n",
    "    return array\n",
    "\n",
    "print(bs_sample_distribution(dataset, np.mean, 10))"
   ]
  },
  {
   "cell_type": "markdown",
   "metadata": {},
   "source": [
    "### Ploting the CDF of the Sample and the Data"
   ]
  },
  {
   "cell_type": "code",
   "execution_count": 49,
   "metadata": {
    "scrolled": true
   },
   "outputs": [
    {
     "data": {
      "image/png": "[encoded data removed]",
      "text/plain": [
       "<matplotlib.figure.Figure at 0x1122a7e80>"
      ]
     },
     "metadata": {},
     "output_type": "display_data"
    }
   ],
   "source": [
    "dataset = [1,3,5,7,9,1,2,3,1,2,3,9,8,6,4,7,9,3]\n",
    "actual_data = dataset\n",
    "\n",
    "\n",
    "for _ in range(1000):\n",
    "    bs_sample = np.random.choice(dataset, size=len(data))\n",
    "    bs_x, bs_y = ecdf(bs_sample)\n",
    "    plt.plot(bs_x, bs_y, marker='.', color='gray', alpha=0.2, linestyle='none')\n",
    "    \n",
    "    \n",
    "x, y = ecdf(actual_data)\n",
    "plt.plot(bs_x, bs_y, marker='.', color='red')\n",
    "plt.show()"
   ]
  },
  {
   "cell_type": "markdown",
   "metadata": {},
   "source": [
    "### Plotting the PDF of a Bootstrap sample"
   ]
  },
  {
   "cell_type": "code",
   "execution_count": 53,
   "metadata": {
    "scrolled": true
   },
   "outputs": [
    {
     "data": {
      "image/png": "[encoded data removed]",
      "text/plain": [
       "<matplotlib.figure.Figure at 0x1118a91d0>"
      ]
     },
     "metadata": {},
     "output_type": "display_data"
    },
    {
     "name": "stdout",
     "output_type": "stream",
     "text": [
      "[ 3.33333333  5.94444444]\n"
     ]
    }
   ],
   "source": [
    "def bs_sample_stat(data, func):\n",
    "    bs_data = np.random.choice(data, len(data))\n",
    "    return func(bs_data)\n",
    "\n",
    "\n",
    "def bs_sample_distribution(data, func, size):\n",
    "\n",
    "    distribution = np.empty(size)\n",
    "\n",
    "    for i in range(size):\n",
    "        distribution[i] = bs_sample_stat(data, func)\n",
    "        \n",
    "    return distribution\n",
    "\n",
    "average_distance = bs_sample_distribution(dataset, np.mean, 1000)\n",
    "    \n",
    "plt.hist(var, normed=True, bins=20)\n",
    "plt.xlabel('Mean of each sample')\n",
    "plt.ylabel('PDF of Average Distance')\n",
    "plt.show()\n",
    "\n",
    "conf_interval = np.percentile(var, [2.5, 97.5])\n",
    "print(conf_interval)"
   ]
  },
  {
   "cell_type": "code",
   "execution_count": 54,
   "metadata": {
    "scrolled": true
   },
   "outputs": [
    {
     "name": "stdout",
     "output_type": "stream",
     "text": [
      "0.671918613205\n",
      "0.66656421435\n"
     ]
    }
   ],
   "source": [
    "# Compute and print SEM\n",
    "sem = np.std(dataset) / np.sqrt(len(dataset))\n",
    "print(sem)\n",
    "\n",
    "# Compute and print standard deviation of bootstrap replicates\n",
    "bs_std = np.std(average_distance)\n",
    "print(bs_std)"
   ]
  },
  {
   "cell_type": "markdown",
   "metadata": {},
   "source": [
    "### Bootstrapping Pairs of Data"
   ]
  },
  {
   "cell_type": "code",
   "execution_count": null,
   "metadata": {
    "scrolled": true
   },
   "outputs": [],
   "source": [
    "fertility = np.array([7,8,9])\n",
    "illiteracy = np.array([1,2,3])\n",
    "\n",
    "def draw_bs_pairs_linreg(x, y, size=1):\n",
    "    \"\"\"Perform pairs bootstrap for linear regression.\"\"\"\n",
    "\n",
    "    # Set up array of indices to sample from: inds\n",
    "    inds = np.arange(len(x))\n",
    "\n",
    "    # Initialize replicates: bs_slope_reps, bs_intercept_reps\n",
    "    bs_slope_reps = np.empty(size)\n",
    "    bs_intercept_reps = np.empty(size)\n",
    "\n",
    "    # Generate replicates\n",
    "    for i in range(size):\n",
    "        bs_inds = np.random.choice(inds, size=len(inds))\n",
    "        bs_x, bs_y = x[bs_inds], y[bs_inds]\n",
    "        bs_slope_reps[i], bs_intercept_reps[i] = np.polyfit(bs_x, bs_y, 1)\n",
    "\n",
    "    return bs_slope_reps, bs_intercept_reps\n",
    "\n",
    "# Generate replicates of slope and intercept using pairs bootstrap\n",
    "bs_slope_reps, bs_intercept_reps = draw_bs_pairs_linreg(illiteracy,fertility, 1000 )\n",
    "\n",
    "# Compute and print 95% CI for slope\n",
    "print(np.percentile(bs_slope_reps, [2.5, 97.5]))\n",
    "\n",
    "# Plot the histogram\n",
    "_ = plt.hist(bs_slope_reps, bins=50, normed=True)\n",
    "_ = plt.xlabel('slope')\n",
    "_ = plt.ylabel('PDF')\n",
    "plt.show()\n",
    "\n",
    "# Generate array of x-values for bootstrap lines: x\n",
    "x = np.array([0, 100])\n",
    "\n",
    "# Plot the bootstrap lines\n",
    "for i in range(100):\n",
    "    _ = plt.plot(x, bs_slope_reps[i]*x + bs_intercept_reps[i],\n",
    "                 linewidth=0.5, alpha=0.2, color='red')\n",
    "\n",
    "# Plot the data\n",
    "_ = plt.plot(illiteracy, fertility, marker='.', linestyle='none')\n",
    "\n",
    "# Label axes, set the margins, and show the plot\n",
    "_ = plt.xlabel('illiteracy')\n",
    "_ = plt.ylabel('fertility')\n",
    "plt.margins(0.02)\n",
    "plt.show()"
   ]
  },
  {
   "cell_type": "markdown",
   "metadata": {},
   "source": [
    "# Hypothesis Testing"
   ]
  },
  {
   "cell_type": "markdown",
   "metadata": {},
   "source": [
    "### Permutating a sample to simulate the hypothesis that two variables have identical probability distributions"
   ]
  },
  {
   "cell_type": "code",
   "execution_count": null,
   "metadata": {
    "collapsed": true
   },
   "outputs": [],
   "source": [
    "def permutate_sample(data1, data2):\n",
    "\n",
    "    # Concatenate the data sets\n",
    "    data = np.concatenate((data1, data2)) #as one parameter\n",
    "\n",
    "    # Permute the data\n",
    "    permuted_data = np.random.permutation(data)\n",
    "\n",
    "    # Split the permuted array into two: perm_sample_1, perm_sample_2\n",
    "    permuted_sample_1 = permuted_data[:len(data1)] #From beginning to length of sample 1\n",
    "    permuted_sample_2 = permuted_data[len(data1):] #From length of sample 1 to end\n",
    "\n",
    "    return permuted_sample_1, permuted_sample_2"
   ]
  },
  {
   "cell_type": "markdown",
   "metadata": {},
   "source": [
    "### Visualizing permutation sampling"
   ]
  },
  {
   "cell_type": "code",
   "execution_count": null,
   "metadata": {
    "collapsed": true
   },
   "outputs": [],
   "source": [
    "for i in range(50):\n",
    "    # Generate permutation samples\n",
    "     permuted_sample_1,  permuted_sample_2 = permutate_sample(data1, data2)\n",
    "\n",
    "\n",
    "    # Compute ECDFs\n",
    "    x_1, y_1 = ecdf(permuted_sample_1)\n",
    "    x_2, y_2 = ecdf(permuted_sample_2)\n",
    "\n",
    "    # Plot ECDFs of permutation sample\n",
    "    _ = plt.plot(x_1, y_1, marker='.', linestyle='none',\n",
    "                 color='red', alpha=0.02)\n",
    "    _ = plt.plot(x_2, y_2, marker='.', linestyle='none',\n",
    "                 color='blue', alpha=0.02)\n",
    "\n",
    "# Create and plot ECDFs from original data\n",
    "x_1, y_1 = ecdf(data1)\n",
    "x_2, y_2 = ecdf(data2)\n",
    "_ = plt.plot(x_1, y_1, marker='.', linestyle='none', color='red')\n",
    "_ = plt.plot(x_2, y_2, marker='.', linestyle='none', color='blue')\n",
    "\n",
    "# Label axes, set margin, and show plot\n",
    "plt.margins(0.02)\n",
    "_ = plt.xlabel('monthly rainfall (mm)')\n",
    "_ = plt.ylabel('ECDF')\n",
    "plt.show()"
   ]
  },
  {
   "cell_type": "markdown",
   "metadata": {},
   "source": [
    "### Genertating Permutation Replicates"
   ]
  },
  {
   "cell_type": "code",
   "execution_count": null,
   "metadata": {
    "collapsed": true
   },
   "outputs": [],
   "source": [
    "def draw_perm_reps(data_1, data_2, func, size=1):\n",
    "\n",
    "    # Initialize array of replicates: perm_replicates\n",
    "    perm_replicates = np.empty(size)\n",
    "\n",
    "    for i in range(size):\n",
    "        # Generate permutation sample\n",
    "        permuted_sample_1,  permuted_sample_2 = permutate_sample(data1, data2)\n",
    "\n",
    "        # Compute the test statistic\n",
    "        perm_replicates[i] = func(permuted_sample_1, permuted_sample_2)\n",
    "\n",
    "    return perm_replicates"
   ]
  },
  {
   "cell_type": "markdown",
   "metadata": {},
   "source": [
    "### P-Value"
   ]
  },
  {
   "cell_type": "code",
   "execution_count": null,
   "metadata": {
    "collapsed": true
   },
   "outputs": [],
   "source": [
    "#The probability of observing a test statistic equally or more extreme than the one you observed, \n",
    "#assuming the hypothesis you are testing is true.\n",
    "\n",
    "#The p-value is a number between 0 and 1 and interpreted in the following way:\n",
    "#A small p-value (typically ≤ 0.05) indicates strong evidence to reject the null hypothesis.\n",
    "#A large p-value (> 0.05) indicates weak evidence against the null hypothesis, so you fail to reject the null hypothesis.\n",
    "#p-values very close to the cutoff (0.05) are considered to be marginal (could go either way). \n",
    "#Always report the p-value so your readers can draw their own conclusions.\n",
    "\n",
    "\n",
    "#Create a boolean mask to count the number of values which equal True, \n",
    "#divided by the total amount of the boorstrap samples\n",
    "p = np.sum(perm_replicates >= empirical_diff_means) / len(perm_replicates)"
   ]
  }
 ],
 "metadata": {
  "kernelspec": {
   "display_name": "Python 3",
   "language": "python",
   "name": "python3"
  },
  "language_info": {
   "codemirror_mode": {
    "name": "ipython",
    "version": 3
   },
   "file_extension": ".py",
   "mimetype": "text/x-python",
   "name": "python",
   "nbconvert_exporter": "python",
   "pygments_lexer": "ipython3",
   "version": "3.6.3"
  }
 },
 "nbformat": 4,
 "nbformat_minor": 2
}
