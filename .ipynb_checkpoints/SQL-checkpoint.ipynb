{
 "cells": [
  {
   "cell_type": "markdown",
   "metadata": {},
   "source": [
    "### Selecting...SELECT, FROM, DISTINCT, COUNT"
   ]
  },
  {
   "cell_type": "markdown",
   "metadata": {
    "collapsed": true
   },
   "source": [
    "SELECT column, second_column FROM table\n",
    "SELECT * FROM table\n",
    "SELECT DISTINCT column FROM table\n",
    "SELECT COUNT(*) FROM table #counts all rows\n",
    "SELECT COUNT(column) FROM table #counts all nonmissing values in column\n",
    "SELECT COUNT(DISTINCT column) FROM table"
   ]
  },
  {
   "cell_type": "markdown",
   "metadata": {},
   "source": [
    "### SQL can handle common arithmitic and boolean operations"
   ]
  },
  {
   "cell_type": "markdown",
   "metadata": {
    "collapsed": true
   },
   "source": [
    "-+*/\n",
    "< > <= >= <>\n",
    "\n",
    "\n",
    "SQL assumes that when you divide an interger by an integer, you want the result as an integter with no remainder.\n",
    "SQL will output 400 for (45/10 * 100) instead of 450\n",
    "So make sure at least one of the values is a float to correct get 450 such as 45/10.00 * 100"
   ]
  },
  {
   "cell_type": "markdown",
   "metadata": {},
   "source": [
    "### Filtering...WHERE, AND, OR, WHERE+BETWEEN, IN, IS NULL, IS NOT NULL, LIKE, NOT LIKE"
   ]
  },
  {
   "cell_type": "code",
   "execution_count": null,
   "metadata": {
    "collapsed": true
   },
   "outputs": [],
   "source": [
    "SELECT COUNT(*) FROM table WHERE column < 2000\n",
    "SELECT columns FROM table WHERE (column = 'condition' AND column < condition) OR condition\n",
    "SELECT columns FROM table WHERE column BETWEEEN condition AND condition\n",
    "SELECT column FROM table WHERE column IN ('NC-17', 'R')\n",
    "\n",
    "# Using LIKE, NOT LIKE with % and _ wildcards\n",
    "SELECT name FROM people WHERE name LIKE 'P%'\n",
    "SELECT name FROM people WHERE name NOT LIKE 'P%"
   ]
  },
  {
   "cell_type": "markdown",
   "metadata": {
    "collapsed": true
   },
   "source": [
    "### Aggregating...AVG, MIN, MAX, SUM...and operations"
   ]
  },
  {
   "cell_type": "code",
   "execution_count": null,
   "metadata": {
    "collapsed": true
   },
   "outputs": [],
   "source": [
    "SELECT MAX(column) \n",
    "FROM table"
   ]
  },
  {
   "cell_type": "markdown",
   "metadata": {},
   "source": [
    "### Aliasing...AS"
   ]
  },
  {
   "cell_type": "code",
   "execution_count": null,
   "metadata": {
    "collapsed": true
   },
   "outputs": [],
   "source": [
    "SELECT title, gross_budget AS net_profit \n",
    "FROM films"
   ]
  },
  {
   "cell_type": "markdown",
   "metadata": {},
   "source": [
    "### ORDER BY, GROUP BY, HAVING, LIMIT, DESC"
   ]
  },
  {
   "cell_type": "code",
   "execution_count": null,
   "metadata": {
    "collapsed": true
   },
   "outputs": [],
   "source": [
    "SELECT name \n",
    "FROM people \n",
    "ORDER BY name, title DESC\n",
    "\n",
    "SELECT release_year, country, max(budget) \n",
    "FROM films \n",
    "GROUP BY release_year, country \n",
    "ORDER BY release_year, country\n",
    "\n",
    "#aggregate functions can't be used in WHERE clauses...thats why we use HAVING\n",
    "SELECT release_year \n",
    "FROM films \n",
    "GROUP BY release_year \n",
    "HAVING COUNT(title) > 200\n",
    "\n",
    "SELECT country, avg(budget) AS avg_budget, avg(gross) AS avg_gross\n",
    "FROM films\n",
    "GROUP BY country\n",
    "HAVING (count(country) > 10)\n",
    "ORDER BY country\n",
    "LIMIT 5"
   ]
  },
  {
   "cell_type": "markdown",
   "metadata": {},
   "source": [
    "### Using, CASE, WHEN, THEN, ELSE, and END"
   ]
  },
  {
   "cell_type": "code",
   "execution_count": null,
   "metadata": {
    "collapsed": true
   },
   "outputs": [],
   "source": [
    "#CASE w/ WHEN, THEN, ELSE, and END\n",
    "SELECT name, continent, code, surface_area,\n",
    "    CASE WHEN surface_area > 2000000\n",
    "            THEN 'large'\n",
    "       WHEN surface_area > 350000\n",
    "            THEN 'medium'\n",
    "       ELSE 'small' END\n",
    "       AS geosize_group\n",
    "FROM countries;\n",
    "\n",
    "#INTO to create another table\n",
    "SELECT name, continent, code, surface_area,\n",
    "    CASE WHEN surface_area > 2000000\n",
    "            THEN 'large'\n",
    "       WHEN surface_area > 350000\n",
    "            THEN 'medium'\n",
    "       ELSE 'small' END\n",
    "       AS geosize_group\n",
    "INTO countries_plus\n",
    "FROM countries;"
   ]
  },
  {
   "cell_type": "markdown",
   "metadata": {},
   "source": [
    "### JOINING IN POSTGRESQL...inner joins"
   ]
  },
  {
   "cell_type": "code",
   "execution_count": null,
   "metadata": {
    "collapsed": true
   },
   "outputs": [],
   "source": [
    "SELECT * FROM left_table \n",
    "INNER JOIN right_table \n",
    "ON left_table.id = right_table.id\n",
    "WHERE year = 2015\n",
    "\n",
    "SELECT c1.name AS city, c2.name AS country \n",
    "FROM cities AS c1 \n",
    "INNER JOIN countries AS c2 \n",
    "ON c1.country_code = c2.code\n",
    "\n",
    "##Multiple Tables\n",
    "SELECT *\n",
    "FROM left_table\n",
    "INNER JOIN right_table\n",
    "ON left_table.id = right_table.id\n",
    "INNER JOIN table1\n",
    "ON left_table.id = table1.id;\n",
    "\n",
    "#Joing via USING when key field is same name\n",
    "SELECT c.name AS country, continent, l.name AS language, official\n",
    "FROM countries AS c\n",
    "INNER JOIN languages AS l\n",
    "USING (code);\n",
    "\n",
    "#Self Joins\n",
    "SELECT p1.country_code, \n",
    "       p1.size AS size2010,\n",
    "       p2.size AS size2015\n",
    "FROM populations AS p1\n",
    "INNER JOIN populations AS p2\n",
    "ON  p1.country_code = p2.country_code\n",
    "WHERE p1.year = p2.year - 5"
   ]
  },
  {
   "cell_type": "markdown",
   "metadata": {},
   "source": [
    "### Joins vs Unions"
   ]
  },
  {
   "cell_type": "code",
   "execution_count": null,
   "metadata": {
    "collapsed": true
   },
   "outputs": [],
   "source": [
    "#Types of Joins\n",
    "Inner, Left, Right, Full, Self, Cross\n",
    "#CROSS joins...all possiable combinations...do no use ON or USING\n",
    "\n",
    "#Types of Unions\n",
    "Union, Full Union, Intersect, Except\n",
    "\n",
    "UNIONS only does stacking...does not include a lookup step\n",
    "UNION = no duplicates\n",
    "UNION ALL = include duplicates\n",
    "INTERSECT...using records not key fields...displays matching records found in both columns\n",
    "EXCEPT...only records that show in left and not right are included"
   ]
  },
  {
   "cell_type": "markdown",
   "metadata": {},
   "source": [
    "### Semi (subqueries) and Anti Joins"
   ]
  },
  {
   "cell_type": "code",
   "execution_count": null,
   "metadata": {
    "collapsed": true
   },
   "outputs": [],
   "source": [
    "#Note that semi and anti do no have native SQL syntax\n",
    "#Semi-Joins...provides records found in the main table that satify the subqueries\n",
    "#Subqueries can go in SELECT, FROM, or WHERE\n",
    "#Subqueries must be aliased\n",
    "\n",
    "SELECT DISTINCT(name) FROM languages\n",
    "WHERE code IN (SELECT code FROM countries\n",
    "                WHERE region = 'Middle East')\n",
    "ORDER BY name\n",
    "\n",
    "\n",
    "#Anti-Joins...where semi-join condition is not met\n",
    "SELECT code, name\n",
    "FROM countries\n",
    "WHERE continent = 'Oceania' \n",
    "AND name NOT IN (SELECT name FROM countries\n",
    "WHERE continent = 'Oceania')"
   ]
  }
 ],
 "metadata": {
  "kernelspec": {
   "display_name": "Python 3",
   "language": "python",
   "name": "python3"
  },
  "language_info": {
   "codemirror_mode": {
    "name": "ipython",
    "version": 3
   },
   "file_extension": ".py",
   "mimetype": "text/x-python",
   "name": "python",
   "nbconvert_exporter": "python",
   "pygments_lexer": "ipython3",
   "version": "3.6.3"
  }
 },
 "nbformat": 4,
 "nbformat_minor": 2
}
