{
 "cells": [
  {
   "cell_type": "markdown",
   "metadata": {},
   "source": [
    "# Regular Expressions"
   ]
  },
  {
   "cell_type": "code",
   "execution_count": null,
   "metadata": {},
   "outputs": [],
   "source": [
    "#Regular Expressions\n",
    "import re\n",
    "\n",
    "# I/O\n",
    "var = open('file location', encoding='utf-8')\n",
    "\n",
    "# Read, Closing\n",
    "var.read()\n",
    "var.close()\n",
    "\n",
    "with open(\"some_file.txt\") as open_file:\n",
    "    data = open_file.read()"
   ]
  },
  {
   "cell_type": "markdown",
   "metadata": {},
   "source": [
    "# Match, Search, Findall"
   ]
  },
  {
   "cell_type": "code",
   "execution_count": 3,
   "metadata": {},
   "outputs": [],
   "source": [
    "import re\n",
    "\n",
    "pattern = r'tesseradecades' #raw string\n",
    "pattern2 = r'phyllophyllin'\n",
    "sequence = 'tesseradecades-septuplet-phyllophyllinnn-phyllophyllin'"
   ]
  },
  {
   "cell_type": "code",
   "execution_count": 4,
   "metadata": {},
   "outputs": [
    {
     "data": {
      "text/plain": [
       "'tesseradecades'"
      ]
     },
     "execution_count": 4,
     "metadata": {},
     "output_type": "execute_result"
    }
   ],
   "source": [
    "#Matching the beginnning of a string\n",
    "re.match(pattern, sequence).group() #Returns a Match object, or 'None' if no matches were found, group() returns the results"
   ]
  },
  {
   "cell_type": "code",
   "execution_count": 5,
   "metadata": {},
   "outputs": [
    {
     "data": {
      "text/plain": [
       "'phyllophyllin'"
      ]
     },
     "execution_count": 5,
     "metadata": {},
     "output_type": "execute_result"
    }
   ],
   "source": [
    "#Searching anywhere in the text...returns first occurance\n",
    "re.search(pattern2, sequence).group()"
   ]
  },
  {
   "cell_type": "code",
   "execution_count": 6,
   "metadata": {},
   "outputs": [
    {
     "data": {
      "text/plain": [
       "['phyllophyllin', 'phyllophyllin']"
      ]
     },
     "execution_count": 6,
     "metadata": {},
     "output_type": "execute_result"
    }
   ],
   "source": [
    "#Findall finds all the possible matches in the entire sequence and returns them as a list of strings. Each returned string represents one match.\n",
    "re.findall(pattern2, sequence)"
   ]
  },
  {
   "cell_type": "markdown",
   "metadata": {},
   "source": [
    "# Flags"
   ]
  },
  {
   "cell_type": "code",
   "execution_count": 7,
   "metadata": {},
   "outputs": [],
   "source": [
    "# re.I                    ignore case\n",
    "# re.VERBOSE              same thing, re.X...that allow regular expressions to span multiple lines and contain (ignored) whitespace and comments\n",
    "# re.I | re.X             use the 'pipe' symbol to utilize more than one flag\n",
    "# re.MULTILINE or re.M -  flag to make a pattern regard lines in your text as the beginning or end of a string.\n",
    "\n",
    "# Add verbose (for multiline quote), and multiline (for muliple lines in string)"
   ]
  },
  {
   "cell_type": "markdown",
   "metadata": {},
   "source": [
    "# Special Characters"
   ]
  },
  {
   "cell_type": "code",
   "execution_count": 8,
   "metadata": {},
   "outputs": [
    {
     "name": "stdout",
     "output_type": "stream",
     "text": [
      "Look\n",
      "eggs!\n",
      "Look\n",
      "Lo\n",
      "ok\n"
     ]
    }
   ],
   "source": [
    "# '.' matches any single character except newline character.\n",
    "# '\\w'  Matches any single letter, digit or underscore.\n",
    "# '\\W'  Matches character not in lowercase w.\n",
    "# '\\d' digits 0-9\n",
    "# '[abc]' matches 'a' or 'b' or 'c'...matches one character\n",
    "# '[a-zA-Z0-9]' all caps, all lowercase, all digits\n",
    "# '\\s' space, tab, newline, return\n",
    "# '\\S' not in 's'\n",
    "\n",
    "# '\\t' tab\n",
    "# '\\n' newline\n",
    "# '\\r' return \n",
    "\n",
    "# '^' matches the characters after the '^' at the beginning of the string\n",
    "# '$' matches the characters before the '$' at the end of the string\n",
    "# '\\A' matches only at the start of the string. Works across multiple lines as well.\n",
    "# '\\b' matches only the beginning or end of the word\n",
    "# '\\B' #anyhtng that is not the edges of a string\n",
    "\n",
    "pattern = r'Look! There is a tesseradecade eggs!'\n",
    "print(re.search( r'^Look', pattern).group())\n",
    "print(re.search( r'eggs!$', pattern).group())\n",
    "print(re.search( r'\\ALook', pattern).group())\n",
    "print(re.search( r'\\bLo', pattern).group())\n",
    "print(re.search( r'ok\\b', pattern).group())"
   ]
  },
  {
   "cell_type": "markdown",
   "metadata": {},
   "source": [
    "# Repetitions"
   ]
  },
  {
   "cell_type": "code",
   "execution_count": 9,
   "metadata": {},
   "outputs": [],
   "source": [
    "# '*' {0, }      left char. is OPTIONAL and greedy\n",
    "# '+' {1, }   left char. is REQUIRED and greedy\n",
    "# '?' {0, 1} left char. is optional and NOT greedy\n",
    "\n",
    "# {x} Repeat exactly x number of times\n",
    "# {x,} Repeat at least x times or more\n",
    "# {x, y} or {, y} Repeat at least x times but no more than y times\n",
    "\n",
    "# Sets\n",
    "# [aple] #Matches a,p,l or e, and includes duplicates...this would find 'apple'\n",
    "# [a-z]\n",
    "# [A-Z]\n",
    "# [a-zA-Z]\n",
    "# [0-9]\n",
    "# [^234] #do not search '2' '3' nor '4'\n",
    "# [\\w+] #this will include '+' symbol"
   ]
  },
  {
   "cell_type": "markdown",
   "metadata": {},
   "source": [
    "# Grouping"
   ]
  },
  {
   "cell_type": "code",
   "execution_count": 10,
   "metadata": {},
   "outputs": [
    {
     "name": "stdout",
     "output_type": "stream",
     "text": [
      "support\n",
      "datacamp.com\n",
      " \n",
      "Using findall():support@datacamp.com\n",
      "Using findall():xyz@datacamp.com\n"
     ]
    }
   ],
   "source": [
    "# ([abc]) creates a group that contains a set and accessed from the Match object as .group(1)\n",
    "# (?P<name>[abc]) creates a named group and is accessed from the Match object as .group('name')...only returns one result\n",
    "# Works with search() and match() but not with findall()...only brings first result\n",
    "# .groups() method to show all of the groups on a Match object. \n",
    "\n",
    "email_address = 'Please contact us at: support@datacamp.com, xyz@datacamp.com'\n",
    "match1 = re.search(r'(?P<address>[\\w.-]+)@(?P<Domain>[\\w.-]+)', email_address)\n",
    "\n",
    "print(match1.group('address'))\n",
    "print(match1.group('Domain'))\n",
    "print(' ')\n",
    "\n",
    "#For all results\n",
    "email_address = 'Please contact us at: support@datacamp.com, xyz@datacamp.com'\n",
    "match2 = re.findall(r'[\\w.-]+@[\\w.-]+', email_address)\n",
    "\n",
    "for i in match2:\n",
    "    print('Using findall():' + str(i))"
   ]
  },
  {
   "cell_type": "code",
   "execution_count": 11,
   "metadata": {},
   "outputs": [
    {
     "name": "stdout",
     "output_type": "stream",
     "text": [
      "<h1>TITLE</h1>\n",
      "<h1>\n"
     ]
    }
   ],
   "source": [
    "#Non-greedy matches\n",
    "\n",
    "#Greedy\n",
    "heading  = r'<h1>TITLE</h1>'\n",
    "print(re.match(r'<.*>', heading).group())\n",
    "\n",
    "#Nongreedy\n",
    "heading  = r'<h1>TITLE</h1>'\n",
    "print(re.match(r'<.*?>', heading).group())"
   ]
  },
  {
   "cell_type": "code",
   "execution_count": 12,
   "metadata": {},
   "outputs": [
    {
     "name": "stdout",
     "output_type": "stream",
     "text": [
      "support@datacamp.com\n",
      "xyz@datacamp.com\n",
      "Please contact us at: support@datacamp.com\n"
     ]
    },
    {
     "data": {
      "text/plain": [
       "'cookie'"
      ]
     },
     "execution_count": 12,
     "metadata": {},
     "output_type": "execute_result"
    }
   ],
   "source": [
    "#Findall\n",
    "#re.findall(pattern, string, flags=0)\n",
    "email_address = \"Please contact us at: support@datacamp.com, xyz@datacamp.com\"\n",
    "addresses = re.findall(r'[\\w\\.-]+@[\\w\\.-]+', email_address)\n",
    "for address in addresses: \n",
    "    print(address)\n",
    "\n",
    "#re.sub(pattern, repl, string, count=0, flags=0)\n",
    "email_address = \"Please contact us at: xyz@datacamp.com\"\n",
    "new_email_address = re.sub(r'([\\w\\.-]+)@([\\w\\.-]+)', r'support@datacamp.com', email_address)\n",
    "print(new_email_address)\n",
    "\n",
    "#re.compile(pattern, flags=0)\n",
    "pattern = re.compile(r\"cookie\")\n",
    "sequence = \"Cake and cookie\"\n",
    "pattern.search(sequence).group()\n",
    "\n",
    "#This is equivalent to:\n",
    "re.search(pattern, sequence).group()\n",
    "\n",
    "#Compiles a regular expression pattern into a regular expression object. \n",
    "#When you need to use an expression several times in a single program, \n",
    "#using the compile() function to save the resulting regular expression object for reuse is more efficient. \n",
    "#This is because the compiled versions of the most recent patterns passed to compile() and the module-level matching functions are cached."
   ]
  },
  {
   "cell_type": "code",
   "execution_count": 16,
   "metadata": {},
   "outputs": [],
   "source": [
    "# Compiling and Loops\n",
    "# .groupdict() - method to generate a dictionary from a Match object's groups. The keys will be the group names. The values will be the results of the patterns in the group.\n",
    "# re.finditer() - method to generate an iterable from the non-overlapping matches of a regular expression. Very handy for for loops.\n",
    "# .group() - method to access the content of a group. 0 or none is the entire match. 1 through how ever many groups you have will get that group. Or use a group's name to get it if you're using named groups."
   ]
  },
  {
   "cell_type": "code",
   "execution_count": 14,
   "metadata": {},
   "outputs": [
    {
     "data": {
      "text/plain": [
       "['dog', 'cat', 'baby', 'balloon', 'me']"
      ]
     },
     "execution_count": 14,
     "metadata": {},
     "output_type": "execute_result"
    }
   ],
   "source": [
    "import re\n",
    "\n",
    "def find_words(count, string):\n",
    "    match = re.findall(r'\\w{' + str(count) + ',}', string)\n",
    "    return match\n",
    "\n",
    "find_words(1, \"dog, cat, baby, balloon, me\")"
   ]
  },
  {
   "cell_type": "code",
   "execution_count": 15,
   "metadata": {},
   "outputs": [
    {
     "data": {
      "text/plain": [
       "['the crazy ones. The misfits',\n",
       " 'The rebels. The troublemake',\n",
       " 'The round pegs in the squar',\n",
       " 'The ones who see things dif',\n",
       " 'the status quo. You can quo',\n",
       " \"the only thing you can't do\",\n",
       " 'the human race forward. And',\n",
       " 'the crazy ones, we see geni',\n",
       " 'the people who are crazy en',\n",
       " 'the world, are the ones who']"
      ]
     },
     "execution_count": 15,
     "metadata": {},
     "output_type": "execute_result"
    }
   ],
   "source": [
    "import re\n",
    "\n",
    "file = open('/Users/pmcorrea/Notebooks/Resources/The Crazy Ones.txt')\n",
    "text = file.read()\n",
    "file.close()\n",
    "\n",
    "pattern = r'the .......................'\n",
    "results = re.findall(pattern, text, re.I)\n",
    "results"
   ]
  }
 ],
 "metadata": {
  "kernelspec": {
   "display_name": "Python 3",
   "language": "python",
   "name": "python3"
  },
  "language_info": {
   "codemirror_mode": {
    "name": "ipython",
    "version": 3
   },
   "file_extension": ".py",
   "mimetype": "text/x-python",
   "name": "python",
   "nbconvert_exporter": "python",
   "pygments_lexer": "ipython3",
   "version": "3.6.3"
  }
 },
 "nbformat": 4,
 "nbformat_minor": 2
}
