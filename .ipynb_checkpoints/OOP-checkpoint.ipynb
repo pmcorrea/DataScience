{
 "cells": [
  {
   "cell_type": "code",
   "execution_count": 1,
   "metadata": {},
   "outputs": [],
   "source": [
    "class Employee:\n",
    "  \n",
    "    total_staff = 0                                                              #Class variable\n",
    "    raise_percentage = 1.04                                                      \n",
    "    \n",
    "    def __init__(self, first, last, city, email):                                #Instance variables\n",
    "        self.first = first                                                       #Self is automatically passed as the first arg for the method\n",
    "        self.last = last\n",
    "        self.city = city\n",
    "        self.email = email\n",
    "        self.salary = 50000\n",
    "        \n",
    "        Employee.total_staff += 1                                                #Class variable must be referenced with 'Employee.'\n",
    "        \n",
    "    def full_name(self):                                                         #Class Method \n",
    "        return 'The Employee Name is: {} {}'.format(self.first, self.last)\n",
    "    \n",
    "    def apply_raise(self):\n",
    "        self.salary = self.salary*Employee.raise_percentage                      #Class variable must be referenced by 'class.''\n",
    "        return self.salary\n",
    "    \n",
    "    \n",
    "    company = 'Best Company XYZ'\n",
    "           \n",
    "Employee_Peter = Employee('Peter', 'Correa', 'Miami', 'Peter@gmail.com')\n",
    "Employee_Ayden = Employee('Ayden', 'Smith', 'Seatle', 'ASmith@gmail.com')"
   ]
  },
  {
   "cell_type": "code",
   "execution_count": 78,
   "metadata": {},
   "outputs": [
    {
     "data": {
      "text/plain": [
       "'Peter'"
      ]
     },
     "execution_count": 78,
     "metadata": {},
     "output_type": "execute_result"
    }
   ],
   "source": [
    "Employee_Peter.first"
   ]
  },
  {
   "cell_type": "code",
   "execution_count": 79,
   "metadata": {},
   "outputs": [
    {
     "data": {
      "text/plain": [
       "'The Employee Name is: Peter Correa'"
      ]
     },
     "execution_count": 79,
     "metadata": {},
     "output_type": "execute_result"
    }
   ],
   "source": [
    "Employee_Peter.full_name() #How 'self' is automatically passed"
   ]
  },
  {
   "cell_type": "code",
   "execution_count": 80,
   "metadata": {},
   "outputs": [
    {
     "data": {
      "text/plain": [
       "'The Employee Name is: Peter Correa'"
      ]
     },
     "execution_count": 80,
     "metadata": {},
     "output_type": "execute_result"
    }
   ],
   "source": [
    "Employee.full_name(Employee_Peter) #How 'self' is automatically passed"
   ]
  },
  {
   "cell_type": "code",
   "execution_count": 81,
   "metadata": {},
   "outputs": [
    {
     "data": {
      "text/plain": [
       "'Best Company XYZ'"
      ]
     },
     "execution_count": 81,
     "metadata": {},
     "output_type": "execute_result"
    }
   ],
   "source": [
    "Employee_Peter.company"
   ]
  },
  {
   "cell_type": "code",
   "execution_count": 82,
   "metadata": {},
   "outputs": [
    {
     "data": {
      "text/plain": [
       "56243.200000000004"
      ]
     },
     "execution_count": 82,
     "metadata": {},
     "output_type": "execute_result"
    }
   ],
   "source": [
    "Employee_Peter.apply_raise()\n",
    "Employee_Peter.apply_raise()\n",
    "Employee_Peter.apply_raise()"
   ]
  },
  {
   "cell_type": "code",
   "execution_count": 83,
   "metadata": {},
   "outputs": [
    {
     "data": {
      "text/plain": [
       "1.04"
      ]
     },
     "execution_count": 83,
     "metadata": {},
     "output_type": "execute_result"
    }
   ],
   "source": [
    "Employee_Peter.raise_percentage          #Prints '1.04'\n",
    "Employee_Peter.raise_percentage = 1.10   #Class variable remains unchanges, object variable is changed\n",
    "Employee_Peter.raise_percentage          #Prints '1.10'   Object Variable\n",
    "Employee.raise_percentage                #Prints '1.04'   Class variable"
   ]
  },
  {
   "cell_type": "code",
   "execution_count": 84,
   "metadata": {},
   "outputs": [
    {
     "data": {
      "text/plain": [
       "{'city': 'Miami',\n",
       " 'email': 'Peter@gmail.com',\n",
       " 'first': 'Peter',\n",
       " 'last': 'Correa',\n",
       " 'raise_percentage': 1.1,\n",
       " 'salary': 56243.200000000004}"
      ]
     },
     "execution_count": 84,
     "metadata": {},
     "output_type": "execute_result"
    }
   ],
   "source": [
    "Employee_Peter.__dict__"
   ]
  },
  {
   "cell_type": "code",
   "execution_count": 85,
   "metadata": {},
   "outputs": [
    {
     "data": {
      "text/plain": [
       "{'city': 'Seatle',\n",
       " 'email': 'ASmith@gmail.com',\n",
       " 'first': 'Ayden',\n",
       " 'last': 'Smith',\n",
       " 'salary': 50000}"
      ]
     },
     "execution_count": 85,
     "metadata": {},
     "output_type": "execute_result"
    }
   ],
   "source": [
    "Employee_Ayden.__dict__"
   ]
  },
  {
   "cell_type": "code",
   "execution_count": 86,
   "metadata": {},
   "outputs": [
    {
     "data": {
      "text/plain": [
       "2"
      ]
     },
     "execution_count": 86,
     "metadata": {},
     "output_type": "execute_result"
    }
   ],
   "source": [
    "Employee.total_staff"
   ]
  },
  {
   "cell_type": "code",
   "execution_count": null,
   "metadata": {},
   "outputs": [],
   "source": []
  },
  {
   "cell_type": "code",
   "execution_count": null,
   "metadata": {},
   "outputs": [],
   "source": []
  }
 ],
 "metadata": {
  "kernelspec": {
   "display_name": "Python 3",
   "language": "python",
   "name": "python3"
  },
  "language_info": {
   "codemirror_mode": {
    "name": "ipython",
    "version": 3
   },
   "file_extension": ".py",
   "mimetype": "text/x-python",
   "name": "python",
   "nbconvert_exporter": "python",
   "pygments_lexer": "ipython3",
   "version": "3.6.3"
  }
 },
 "nbformat": 4,
 "nbformat_minor": 2
}
