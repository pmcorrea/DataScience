{
 "cells": [
  {
   "cell_type": "code",
   "execution_count": 10,
   "metadata": {},
   "outputs": [
    {
     "ename": "SyntaxError",
     "evalue": "invalid syntax (<ipython-input-10-453ceb0240e0>, line 10)",
     "output_type": "error",
     "traceback": [
      "\u001b[0;36m  File \u001b[0;32m\"<ipython-input-10-453ceb0240e0>\"\u001b[0;36m, line \u001b[0;32m10\u001b[0m\n\u001b[0;31m    (file, sep='\\t', comment='#', na_values='NaN', nrows = 5, header = None, parse_dates=[[column indexs]],\u001b[0m\n\u001b[0m              ^\u001b[0m\n\u001b[0;31mSyntaxError\u001b[0m\u001b[0;31m:\u001b[0m invalid syntax\n"
     ]
    }
   ],
   "source": [
    "#Importing Data\n",
    "path = 'path'\n",
    "df = pd.read_csv(path)\n",
    "\n",
    "#Saving Data\n",
    "df.to_csv('new file name')\n",
    "df.to_excel('new file name')\n",
    "\n",
    "#read_csv arguments\n",
    "(file, sep='\\t', comment='#', na_values='NaN', nrows = 5, header = None, parse_dates=[[column indexs]], \n",
    " names = 'variable holding column names', index_col='column to name as index')\n",
    "\n",
    "#another way to handle NaN na_values={'column name' : ['row value']}"
   ]
  },
  {
   "cell_type": "code",
   "execution_count": 1,
   "metadata": {},
   "outputs": [
    {
     "name": "stdout",
     "output_type": "stream",
     "text": [
      "{'City': ['Miami', 'Coral Gables', 'Brickell', 'Coco Plum'], 'Bars': [5, 7, 2, 3], 'Movies': [10, 1, 2, 0]}\n",
      "           City  Bars  Movies\n",
      "0         Miami     5      10\n",
      "1  Coral Gables     7       1\n",
      "2      Brickell     2       2\n",
      "3     Coco Plum     3       0\n"
     ]
    }
   ],
   "source": [
    "#Creating a DataFrame from lists\n",
    "#Create a list of lists via Zip, convert to dict, convert to df\n",
    "import pandas as pd\n",
    "\n",
    "cities = ['Miami', 'Coral Gables', 'Brickell', 'Coco Plum']\n",
    "bars = [5, 7, 2, 3]\n",
    "theaters = [10, 1, 2, 0]\n",
    "\n",
    "list_labels = ['City', 'Bars', 'Movies']\n",
    "list_cols = [cities, bars, theaters]\n",
    "\n",
    "zipped = list(zip(list_labels, list_cols))\n",
    "data_in_dict = dict(zipped)\n",
    "print(data_in_dict)\n",
    "\n",
    "data_in_frame = pd.DataFrame(data_in_dict)\n",
    "print(data_in_frame)"
   ]
  },
  {
   "cell_type": "code",
   "execution_count": 3,
   "metadata": {},
   "outputs": [
    {
     "name": "stdout",
     "output_type": "stream",
     "text": [
      "     Capital  Country  Population\n",
      "0       Rome    Italy          15\n",
      "1     Madrid    Spain          11\n",
      "2       Oslo   Norway           9\n",
      "3   Brussels  Belgium           7\n",
      "4  Reykjavik  Iceland           8\n",
      "5   Helsinki  Finland           3\n"
     ]
    }
   ],
   "source": [
    "#Creating a DataFrame from dictionaries\n",
    "world_dict = {\n",
    "             'Country':['Italy','Spain', 'Norway', 'Belgium', 'Iceland', 'Finland'],\n",
    "             'Capital':['Rome','Madrid','Oslo','Brussels','Reykjavik','Helsinki'],\n",
    "             'Population':[15,11,9,7,8,3]}\n",
    "\n",
    "#Convert dict to dataframe\n",
    "world = print(pd.DataFrame(world_dict))\n"
   ]
  },
  {
   "cell_type": "code",
   "execution_count": null,
   "metadata": {
    "collapsed": true
   },
   "outputs": [],
   "source": [
    "#Creating a dataframe from another dataframe\n",
    "new_df = pd.DataFrame(old_df[['col', 'col', 'col']])"
   ]
  },
  {
   "cell_type": "code",
   "execution_count": null,
   "metadata": {
    "collapsed": true
   },
   "outputs": [],
   "source": [
    "#Selecting a specific column\n",
    "world['Capital'] #Series\n",
    "world[['Capital']] #DataFrame\n",
    "#Selecting specific rows\n",
    "world[0:4]\n",
    "#Pulling both\n",
    "df['Column']['Row']\n",
    "df.column['Row']\n",
    "\n",
    "#Deleting Columns and Rows\n",
    "del df['Column']\n",
    "df.replace(0, np.nan, inplace=True)\n",
    "df.drop() #drop rows...axis=0, drop columns...axis=1\n",
    "\n",
    "#delete row by condition\n",
    "df = df.drop(df[df.column <= 0].index)\n",
    "\n",
    "#Using loc and iloc\n",
    "world.loc['Row', 'Column'] #With labels endpoint of slicing is inclusive\n",
    "world.loc['Row':'Row5': -1] #will return rows in reserve order\n",
    "world.iloc[[0,1,2], [0,2]] #With nonlabels endpoint of slicing is exclusive\n",
    "\n",
    "#Counting Occurences\n",
    "np.unique(df[0]) #prints every unique value \n",
    "pd.value_counts(df[0]) #prints counts of every unique value\n",
    "df[0].isin(['?']).sum() #prints sum specific values\n",
    "\n",
    "#Filtering \n",
    "indices = df['column'] == 'particular column value'\n",
    "variable = df.loc[indices, :]\n",
    "indices.unique() #check that filtering worked\n",
    "\n",
    "#Filtering using Boolean\n",
    "variable = df.column > 70\n",
    "df[(df.col >= 50) & (df.col < 200)]\n",
    "df[(df.col >= 50) | (df.col < 200)]\n",
    "\n",
    "#Grouping...must be followed by math expression\n",
    "group = data.groupby('Column').mean()\n",
    "\n",
    "#Sorting\n",
    "group = group.sort_values('Life_expectancy', axis=0)"
   ]
  },
  {
   "cell_type": "code",
   "execution_count": null,
   "metadata": {
    "collapsed": true
   },
   "outputs": [],
   "source": [
    "#Transforming DataFrames\n",
    "df.function() #Applied to whole DataFrame\n",
    "\n",
    "#Transforming DataFrames with NumPy\n",
    "np.function(df, para)\n",
    "\n",
    "#Transforming DataFrames with plain functions\n",
    "df.apply(func_name_or_lambda)\n",
    "df.column.function_or_apply(para)"
   ]
  },
  {
   "cell_type": "code",
   "execution_count": null,
   "metadata": {
    "collapsed": true
   },
   "outputs": [],
   "source": [
    "#Plotting in Matplotlib using pandas series as a numpy array\n",
    "variable = df['column'].values\n",
    "plt.plot(variable) #yields np array\n",
    "plt.show()\n",
    "\n",
    "#Plotting in Matplotlib using pandas series directly\n",
    "variable = df['columm']\n",
    "plt.plot(variable)\n",
    "plt.show()\n",
    "#On DataFrame\n",
    "plt.plot(df)\n",
    "plt.show()\n",
    "\n",
    "#Plotting in pandas series/dataframe method .plot()\n",
    "#On series\n",
    "variable = df['columm']\n",
    "variable.plot()\n",
    "plt.show()\n",
    "#On DataFrame\n",
    "df.plot()\n",
    "plt.show()\n",
    "\n",
    "#Saving Plots: splice then save\n",
    "df.loc['row':'row', ['column', 'column']].plot()\n",
    "plt.savefig('name.png')\n",
    "\n",
    "#Style argument\n",
    "#color + marker, line\n",
    "#Color: b, g, r, k\n",
    "#Marker: o, *, s, +\n",
    "#Line: -, ' ' "
   ]
  },
  {
   "cell_type": "code",
   "execution_count": null,
   "metadata": {
    "collapsed": true
   },
   "outputs": [],
   "source": [
    "#Subplots\n",
    "df[cols].plot(kind='box', subplots=True)\n",
    "\n",
    "# This formats the two plots to appear on separate rows\n",
    "fig, axes = plt.subplots(nrows=2, ncols=1)\n",
    "\n",
    "# Plot the PDF\n",
    "df.fraction.plot(ax=axes[0], kind='hist', bins=30, normed=True, range=(0,.3))\n",
    "plt.show()\n",
    "\n",
    "# Plot the CDF\n",
    "df.fraction.plot(ax=axes[1], kind='hist', bins=30, normed=True, cumulative=True, range=(0,.3))\n",
    "plt.show()"
   ]
  },
  {
   "cell_type": "code",
   "execution_count": null,
   "metadata": {
    "collapsed": true
   },
   "outputs": [],
   "source": [
    "#datetime objects\n",
    "pd.read_csv(filename, parse_dates=['Date'])\n",
    "pd.read_csv(parse_date=True) #ISO 8601 yyyy-mm-dd hh:mm:ss\n",
    "\n",
    "#converting strings to datetime\n",
    "pd.to_datetime(date_list, format='%Y-%m-%d %H:%M')\n",
    "\n",
    "#selecting single datetime\n",
    "df.loc['yyyy-mm-dd hh:mm:ss', 'column']\n",
    "\n",
    "#selecting a whole day\n",
    "df.loc['yyyy-mm-dd']\n",
    "\n",
    "#Panda supports partial selecting\n",
    "df.loc['yyyy-mm']\n",
    "\n",
    "#slicing\n",
    "df.loc['yyyy-mm-dd' :'yyyy-mm-dd']\n",
    "\n",
    "\n",
    "# Prepare a format string: time_format\n",
    "time_format = '%Y-%m-%d %H:%M'\n",
    "\n",
    "#reindexing (combinding dataframes) and handleing NaN values\n",
    "ts2.reindex(ts1.index, method='ffill or bfill') \n",
    "\n",
    "#resample and stats\n",
    "df.resample.('D').mean() #Downscaling and upscaling #A, M, W, D, H, M...Q, B\n",
    "df.resample.('2D', on='col').mean() #every two days\n",
    "df['column'].rolling(window=24).mean() #window is determined by the spacing of the data representation"
   ]
  },
  {
   "cell_type": "code",
   "execution_count": null,
   "metadata": {
    "collapsed": true
   },
   "outputs": [],
   "source": [
    "#datetime methods dt.xxxx\n",
    "df['column'].dt.hour\n",
    "\n",
    "#set timezone\n",
    "og_tz = df['column'].dt.tz_localize('US/Central')\n",
    "\n",
    "#convert timezone\n",
    "new_tz = df['column'].dt.tz_convert('US/Eastern')"
   ]
  },
  {
   "cell_type": "code",
   "execution_count": null,
   "metadata": {
    "collapsed": true
   },
   "outputs": [],
   "source": [
    "#interpolate missing data\n",
    "df.resample('A').first().interpolate('linear')"
   ]
  },
  {
   "cell_type": "code",
   "execution_count": null,
   "metadata": {
    "collapsed": true
   },
   "outputs": [],
   "source": [
    "#Mapping\n",
    "red_vs_blue = {'Obama':'blue', 'Romney':'red'}\n",
    "election['color'] = election['winner'].map(red_vs_blue)"
   ]
  },
  {
   "cell_type": "code",
   "execution_count": 53,
   "metadata": {},
   "outputs": [
    {
     "name": "stdout",
     "output_type": "stream",
     "text": [
      "                      Close    Volume\n",
      "Dates      Symbol                    \n",
      "2018-01-01 AAPL    1.308764 -0.732762\n",
      "           CSCO    0.160905  0.362482\n",
      "           MSFT   -0.578510  0.173913\n",
      "2018-01-02 AAPL    1.116136  0.027005\n",
      "           CSCO   -0.327893  0.698949\n",
      "           MSFT    0.817033 -0.813039\n",
      "2018-01-03 AAPL   -1.345341 -0.846043\n",
      "           CSCO   -0.650479  0.420320\n",
      "           MSFT    0.327611  0.996306\n",
      "2018-01-04 AAPL   -2.767615  0.098355\n",
      "           CSCO    1.454784 -0.810826\n",
      "           MSFT   -0.382837 -1.872787\n"
     ]
    },
    {
     "data": {
      "text/html": [
       "<div>\n",
       "<style>\n",
       "    .dataframe thead tr:only-child th {\n",
       "        text-align: right;\n",
       "    }\n",
       "\n",
       "    .dataframe thead th {\n",
       "        text-align: left;\n",
       "    }\n",
       "\n",
       "    .dataframe tbody tr th {\n",
       "        vertical-align: top;\n",
       "    }\n",
       "</style>\n",
       "<table border=\"1\" class=\"dataframe\">\n",
       "  <thead>\n",
       "    <tr style=\"text-align: right;\">\n",
       "      <th></th>\n",
       "      <th></th>\n",
       "      <th>Close</th>\n",
       "      <th>Volume</th>\n",
       "    </tr>\n",
       "    <tr>\n",
       "      <th>Dates</th>\n",
       "      <th>Symbol</th>\n",
       "      <th></th>\n",
       "      <th></th>\n",
       "    </tr>\n",
       "  </thead>\n",
       "  <tbody>\n",
       "    <tr>\n",
       "      <th rowspan=\"3\" valign=\"top\">2018-01-02</th>\n",
       "      <th>AAPL</th>\n",
       "      <td>1.116136</td>\n",
       "      <td>0.027005</td>\n",
       "    </tr>\n",
       "    <tr>\n",
       "      <th>CSCO</th>\n",
       "      <td>-0.327893</td>\n",
       "      <td>0.698949</td>\n",
       "    </tr>\n",
       "    <tr>\n",
       "      <th>MSFT</th>\n",
       "      <td>0.817033</td>\n",
       "      <td>-0.813039</td>\n",
       "    </tr>\n",
       "    <tr>\n",
       "      <th rowspan=\"3\" valign=\"top\">2018-01-03</th>\n",
       "      <th>AAPL</th>\n",
       "      <td>-1.345341</td>\n",
       "      <td>-0.846043</td>\n",
       "    </tr>\n",
       "    <tr>\n",
       "      <th>CSCO</th>\n",
       "      <td>-0.650479</td>\n",
       "      <td>0.420320</td>\n",
       "    </tr>\n",
       "    <tr>\n",
       "      <th>MSFT</th>\n",
       "      <td>0.327611</td>\n",
       "      <td>0.996306</td>\n",
       "    </tr>\n",
       "    <tr>\n",
       "      <th rowspan=\"3\" valign=\"top\">2018-01-04</th>\n",
       "      <th>AAPL</th>\n",
       "      <td>-2.767615</td>\n",
       "      <td>0.098355</td>\n",
       "    </tr>\n",
       "    <tr>\n",
       "      <th>CSCO</th>\n",
       "      <td>1.454784</td>\n",
       "      <td>-0.810826</td>\n",
       "    </tr>\n",
       "    <tr>\n",
       "      <th>MSFT</th>\n",
       "      <td>-0.382837</td>\n",
       "      <td>-1.872787</td>\n",
       "    </tr>\n",
       "  </tbody>\n",
       "</table>\n",
       "</div>"
      ],
      "text/plain": [
       "                      Close    Volume\n",
       "Dates      Symbol                    \n",
       "2018-01-02 AAPL    1.116136  0.027005\n",
       "           CSCO   -0.327893  0.698949\n",
       "           MSFT    0.817033 -0.813039\n",
       "2018-01-03 AAPL   -1.345341 -0.846043\n",
       "           CSCO   -0.650479  0.420320\n",
       "           MSFT    0.327611  0.996306\n",
       "2018-01-04 AAPL   -2.767615  0.098355\n",
       "           CSCO    1.454784 -0.810826\n",
       "           MSFT   -0.382837 -1.872787"
      ]
     },
     "execution_count": 53,
     "metadata": {},
     "output_type": "execute_result"
    }
   ],
   "source": [
    "#Hierarchical Indexing\n",
    "import pandas as pd\n",
    "import numpy as np\n",
    "\n",
    "df = pd.DataFrame(np.random.randn(12,3))\n",
    "cols = ['Close', 'Volume', 'Symbol']\n",
    "df.columns = cols\n",
    "\n",
    "symbols = ['AAPL', 'CSCO', 'MSFT', 'AAPL', 'CSCO', 'MSFT', 'AAPL', 'CSCO', 'MSFT', 'AAPL', 'CSCO', 'MSFT']\n",
    "df.Symbol = symbols\n",
    "\n",
    "dates = ['2018-01-01', '2018-01-01', '2018-01-01','2018-01-02', '2018-01-02', '2018-01-02','2018-01-03', '2018-01-03', '2018-01-03','2018-01-04', '2018-01-04','2018-01-04']\n",
    "dt_dates = pd.to_datetime(dates, format='%Y-%m-%d')\n",
    "df['Dates'] = dt_dates\n",
    "\n",
    "#Sets Hierarchical Index\n",
    "new_df = df.set_index(['Dates', 'Symbol'])\n",
    "new_df.sort_index()\n",
    "print(new_df)\n",
    "\n",
    "#Swapping indices\n",
    "new_df.swaplevel(0,1)\n",
    "new_df.swaplevel(0,1)\n",
    "\n",
    "#Pulling out rows\n",
    "new_df.loc['2018-01-02']\n",
    "new_df.loc['2018-01-02':'2018-01-04']\n",
    "new_df.loc[('2018-01-02','AAPL'),]\n",
    "new_df.loc[(['2018-01-02','2018-01-04'], 'AAPL'), :]\n",
    "new_df.loc[(['2018-01-02','2018-01-04'], ['AAPL', 'MSFT']), :]\n",
    "\n",
    "#Pulling out rows and columns\n",
    "new_df.loc[('2018-01-02','AAPL'),'Volume']\n",
    "new_df.loc[['2018-01-02','2018-01-04'],'Volume'] #notice the two brackets need for mutiple rows from same index\n",
    "new_df.loc['2018-01-02':'2018-01-04', 'Volume']\n",
    "\n",
    "#Inner Index doesnt understand ':' for slicing...must use slice()\n",
    "new_df.loc[(slice(None), slice('AAPL')), :]\n",
    "new_df.loc[(slice('2018-01-02','2018-01-04'), slice('AAPL', 'MSFT')), :]\n",
    "\n",
    "#Stacking\n",
    "df.stack(level='row to index')\n",
    "df.unstack(level='index to row')"
   ]
  }
 ],
 "metadata": {
  "kernelspec": {
   "display_name": "Python 3",
   "language": "python",
   "name": "python3"
  },
  "language_info": {
   "codemirror_mode": {
    "name": "ipython",
    "version": 3
   },
   "file_extension": ".py",
   "mimetype": "text/x-python",
   "name": "python",
   "nbconvert_exporter": "python",
   "pygments_lexer": "ipython3",
   "version": "3.6.8"
  }
 },
 "nbformat": 4,
 "nbformat_minor": 2
}
