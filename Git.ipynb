{
 "cells": [
  {
   "cell_type": "markdown",
   "metadata": {},
   "source": [
    "# Git basic commands"
   ]
  },
  {
   "cell_type": "raw",
   "metadata": {},
   "source": [
    "git -- version\n",
    "git config --global user.name 'name'\n",
    "git config --global user.email 'email' \n",
    "\n",
    "git init #initialize a git repository in your directory\n",
    "git status #check the status of the repository\n",
    "\n",
    "git add file_name #add one file\n",
    "git add . #add all files\n",
    "git commit -m “commit message” #commit your files along with a message\n",
    "\n",
    "git remote add origin https://github.com/username/reponame.git #the remote url to your GitHub repo\n",
    "git push origin master #push your files up to github on the master branch"
   ]
  },
  {
   "cell_type": "markdown",
   "metadata": {},
   "source": [
    "# Creating a branch"
   ]
  },
  {
   "cell_type": "raw",
   "metadata": {},
   "source": [
    "git branch #shows branches \n",
    "git branch someNewBranch\n",
    "git checkout someNewBranch #switches to 'add-newBranch'\n",
    "get checkout -b someNewBranch #create AND switch branches \n",
    "git push origin someNewBranch #push branch & changes to github\n",
    "git pull origin someNewBranch"
   ]
  }
 ],
 "metadata": {
  "kernelspec": {
   "display_name": "Python 3",
   "language": "python",
   "name": "python3"
  },
  "language_info": {
   "codemirror_mode": {
    "name": "ipython",
    "version": 3
   },
   "file_extension": ".py",
   "mimetype": "text/x-python",
   "name": "python",
   "nbconvert_exporter": "python",
   "pygments_lexer": "ipython3",
   "version": "3.7.1"
  }
 },
 "nbformat": 4,
 "nbformat_minor": 2
}
