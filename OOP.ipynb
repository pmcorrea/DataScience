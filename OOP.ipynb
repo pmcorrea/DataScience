{
 "cells": [
  {
   "cell_type": "markdown",
   "metadata": {},
   "source": [
    "## Classes, Attributes, and Inheritance "
   ]
  },
  {
   "cell_type": "code",
   "execution_count": 2,
   "metadata": {},
   "outputs": [
    {
     "ename": "TypeError",
     "evalue": "classmethod expected 1 arguments, got 0",
     "output_type": "error",
     "traceback": [
      "\u001b[0;31m---------------------------------------------------------------------------\u001b[0m",
      "\u001b[0;31mTypeError\u001b[0m                                 Traceback (most recent call last)",
      "\u001b[0;32m<ipython-input-2-2fbc65f6570e>\u001b[0m in \u001b[0;36m<module>\u001b[0;34m()\u001b[0m\n\u001b[0;32m----> 1\u001b[0;31m \u001b[0mclassmethod\u001b[0m\u001b[0;34m(\u001b[0m\u001b[0;34m)\u001b[0m\u001b[0;34m\u001b[0m\u001b[0m\n\u001b[0m\u001b[1;32m      2\u001b[0m \u001b[0mproperty\u001b[0m\u001b[0;34m(\u001b[0m\u001b[0;34m)\u001b[0m\u001b[0;34m\u001b[0m\u001b[0m\n\u001b[1;32m      3\u001b[0m \u001b[0;34m\u001b[0m\u001b[0m\n\u001b[1;32m      4\u001b[0m \u001b[0mhasattr\u001b[0m\u001b[0;34m(\u001b[0m\u001b[0;34m)\u001b[0m\u001b[0;34m\u001b[0m\u001b[0m\n\u001b[1;32m      5\u001b[0m \u001b[0msetattr\u001b[0m\u001b[0;34m(\u001b[0m\u001b[0;34m)\u001b[0m\u001b[0;34m\u001b[0m\u001b[0m\n",
      "\u001b[0;31mTypeError\u001b[0m: classmethod expected 1 arguments, got 0"
     ]
    }
   ],
   "source": [
    "# classmethod()\n",
    "# property()\n",
    "\n",
    "# hasattr()\n",
    "# setattr()\n",
    "# getattr()\n",
    "# delattr()\n",
    "\n",
    "# isinstance('this is a', str) # returns a bool\n",
    "# isinstance(5, (int, float))\n",
    "# someVariable.__class__.__name__ #return class name of object\n",
    "# issubclass()\n",
    "# super()\n",
    "# type()\n",
    "\n",
    "# callable()\n",
    "# staticmethod()"
   ]
  },
  {
   "cell_type": "markdown",
   "metadata": {},
   "source": [
    "## Variables, References, and Scope"
   ]
  },
  {
   "cell_type": "code",
   "execution_count": 1,
   "metadata": {},
   "outputs": [
    {
     "ename": "TypeError",
     "evalue": "id() takes exactly one argument (0 given)",
     "output_type": "error",
     "traceback": [
      "\u001b[0;31m---------------------------------------------------------------------------\u001b[0m",
      "\u001b[0;31mTypeError\u001b[0m                                 Traceback (most recent call last)",
      "\u001b[0;32m<ipython-input-1-ed15ae9098de>\u001b[0m in \u001b[0;36m<module>\u001b[0;34m\u001b[0m\n\u001b[1;32m      3\u001b[0m \u001b[0mglobals\u001b[0m\u001b[0;34m(\u001b[0m\u001b[0;34m)\u001b[0m\u001b[0;34m\u001b[0m\u001b[0;34m\u001b[0m\u001b[0m\n\u001b[1;32m      4\u001b[0m \u001b[0mvars\u001b[0m\u001b[0;34m(\u001b[0m\u001b[0;34m)\u001b[0m\u001b[0;34m\u001b[0m\u001b[0;34m\u001b[0m\u001b[0m\n\u001b[0;32m----> 5\u001b[0;31m \u001b[0mid\u001b[0m\u001b[0;34m(\u001b[0m\u001b[0;34m)\u001b[0m \u001b[0;31m#same as using 'is' to compare two objects\u001b[0m\u001b[0;34m\u001b[0m\u001b[0;34m\u001b[0m\u001b[0m\n\u001b[0m",
      "\u001b[0;31mTypeError\u001b[0m: id() takes exactly one argument (0 given)"
     ]
    }
   ],
   "source": [
    "dir()\n",
    "locals()\n",
    "globals()\n",
    "vars()\n",
    "id() #same as using 'is' to compare two objects"
   ]
  },
  {
   "cell_type": "markdown",
   "metadata": {},
   "source": [
    "# Example"
   ]
  },
  {
   "cell_type": "code",
   "execution_count": 1,
   "metadata": {},
   "outputs": [],
   "source": [
    "class Employee:\n",
    "    total_staff = 0                                                              #Class variables\n",
    "    raise_amt = 1.04  \n",
    "    company = 'Best Company XYZ'\n",
    "    \n",
    "    def __init__(self, first, last, city, email, **kwargs):                     #Methods pass instance ('self') as first param\n",
    "        self.first = first                                                      #Init method is used to initialize instance with default values\n",
    "        self.last = last                                                        #kwargs help take in additional key-value pairs as attributes \n",
    "        self.city = city\n",
    "        self.email = email\n",
    "        self.salary = 50000\n",
    "        \n",
    "        Employee.total_staff += 1  #Accessing class variable must be referenced by its class\n",
    "        \n",
    "        for k, v in kwargs.items():\n",
    "            setattr(self, k, v)\n",
    "        \n",
    "    def full_name(self):                                                         #Methods take in instance ('self') as first param\n",
    "        return '{} {}'.format(self.first, self.last)\n",
    "    \n",
    "    def apply_raise(self):\n",
    "        self.salary = self.salary*Employee.raise_amt                             \n",
    "        return self.salary\n",
    "    \n",
    "    \n",
    "    @classmethod                                                                 #Class Methods pass class as first param\n",
    "    def set_raise_amt(cls, amount):                                              \n",
    "        cls.raise_amt = amount\n",
    "        \n",
    "    @staticmethod                                                                #Static Methods do not access the instance nor the class\n",
    "    def is_workday(day):\n",
    "        if day.weekday() == 5 or day.weekday() == 6:\n",
    "            return False\n",
    "        return True\n",
    "    \n",
    "    def __repr__(self):                                                         #This Dunder Methods allow us to ovrd default 'print' behavior\n",
    "        return \"Employee('{}', '{}', '{}', '{}')\".format(self.first, self.last, self.city, self.email)\n",
    "    \n",
    "    def __str__(self):\n",
    "        return \"{} - {}\".format(self.full_name(), self.email)\n",
    "    \n",
    "class Developer(Employee):                                                      #Inhertiance \n",
    "    def __init__(self, first, last, city, email, language):                     #Init Method\n",
    "        super().__init__(first, last, city, email)                              #Using parent class init methods\n",
    "        self.language = language                                                #Completing subclass init method\n",
    "    \n",
    "class Manager(Employee):\n",
    "    def __init__(self, first, last, city, email, employees=None):   #Don't initialize parameters with empty sets because they're mutable\n",
    "        super().__init__(first, last, city, email)                  #employees=None is optional param\n",
    "        if employees is None:\n",
    "            self.employees = []\n",
    "        else:\n",
    "            self.employees = employees\n",
    "            \n",
    "    def add_employee(self, emp): #Method to add employees \n",
    "        if emp not in self.employees:\n",
    "            self.employees.append(emp)\n",
    "           \n",
    "    def remove_employee(self, emp): #Method to delete employee from employees\n",
    "        if emp in self.employees:\n",
    "            self.employees.remove(emp)\n",
    "            \n",
    "    def print_employees(self):\n",
    "        for emp in self.employees:\n",
    "            print('-->', emp.full_name())\n",
    "            \n",
    "    __someAttribute = 'This is Protected'       #Protected by not including trailing dunder\n",
    "            \n",
    "Employee_Peter = Employee('Peter', 'Correa', 'Miami', 'Peter@gmail.com')        #Initializing instances\n",
    "Employee_Ayden = Employee('Ayden', 'Smith', 'Seatle', 'ASmith@gmail.com')\n",
    "Developer_Jamie = Developer('Jamie', 'Appleseed', 'Oldbird Creek', 'Jappleseed@apple.com', 'Python')\n",
    "Developer_Anastasia = Developer('Anastasia', 'Stravinsky', 'Russia', 'riteofwinter@music.ru', 'C++')\n",
    "Developer_Michael = Developer('Michael', 'Rodriguez', 'West 7th Ave', 'mridriguez@apple.com', 'Swift')\n",
    "Steve_Jobs = Manager('Steve', 'Jobs', 'Cupertino', 'steve@apple.com')"
   ]
  },
  {
   "cell_type": "code",
   "execution_count": 8,
   "metadata": {},
   "outputs": [
    {
     "data": {
      "text/plain": [
       "'This is Protected'"
      ]
     },
     "execution_count": 8,
     "metadata": {},
     "output_type": "execute_result"
    }
   ],
   "source": [
    "Steve_Jobs._Manager__someAttribute #Protected"
   ]
  },
  {
   "cell_type": "code",
   "execution_count": null,
   "metadata": {},
   "outputs": [],
   "source": []
  },
  {
   "cell_type": "code",
   "execution_count": 84,
   "metadata": {},
   "outputs": [
    {
     "name": "stdout",
     "output_type": "stream",
     "text": [
      "Peter Correa\n",
      "Peter Correa\n"
     ]
    }
   ],
   "source": [
    "through_instance = Employee_Peter.full_name()                                    #How 'self' is automatically passed\n",
    "through_class = Employee.full_name(Employee_Peter)\n",
    "\n",
    "print(through_instance)\n",
    "print(through_class)"
   ]
  },
  {
   "cell_type": "code",
   "execution_count": 85,
   "metadata": {},
   "outputs": [
    {
     "name": "stdout",
     "output_type": "stream",
     "text": [
      "1.04\n"
     ]
    },
    {
     "data": {
      "text/plain": [
       "56243.200000000004"
      ]
     },
     "execution_count": 85,
     "metadata": {},
     "output_type": "execute_result"
    }
   ],
   "source": [
    "print(Employee_Peter.raise_amt)\n",
    "Employee_Peter.apply_raise()\n",
    "Employee_Peter.apply_raise()\n",
    "Employee_Peter.apply_raise()"
   ]
  },
  {
   "cell_type": "code",
   "execution_count": 40,
   "metadata": {},
   "outputs": [
    {
     "name": "stdout",
     "output_type": "stream",
     "text": [
      "1.1\n",
      "2.07\n"
     ]
    }
   ],
   "source": [
    "Employee_Peter.raise_amt          #Currently '1.04'\n",
    "Employee_Peter.raise_amt = 1.10   #Class variable remains unchanges, instance variable is changed to '1.10'\n",
    "\n",
    "print(Employee_Peter.raise_amt)          #'1.10'   Instance Variable\n",
    "print(Employee.raise_amt)               #'1.04'   Class variable"
   ]
  },
  {
   "cell_type": "code",
   "execution_count": 87,
   "metadata": {},
   "outputs": [
    {
     "data": {
      "text/plain": [
       "{'city': 'Miami',\n",
       " 'email': 'Peter@gmail.com',\n",
       " 'first': 'Peter',\n",
       " 'last': 'Correa',\n",
       " 'raise_amt': 1.1,\n",
       " 'salary': 56243.200000000004}"
      ]
     },
     "execution_count": 87,
     "metadata": {},
     "output_type": "execute_result"
    }
   ],
   "source": [
    "Employee_Peter.__dict__ #Lists out instant variables"
   ]
  },
  {
   "cell_type": "code",
   "execution_count": 89,
   "metadata": {},
   "outputs": [
    {
     "data": {
      "text/plain": [
       "6"
      ]
     },
     "execution_count": 89,
     "metadata": {},
     "output_type": "execute_result"
    }
   ],
   "source": [
    "Employee.total_staff #Accessing Class variable"
   ]
  },
  {
   "cell_type": "code",
   "execution_count": 38,
   "metadata": {},
   "outputs": [
    {
     "data": {
      "text/plain": [
       "2.07"
      ]
     },
     "execution_count": 38,
     "metadata": {},
     "output_type": "execute_result"
    }
   ],
   "source": [
    "Employee.set_raise_amt(2.07) #Changing Class variable\n",
    "Employee.raise_amt"
   ]
  },
  {
   "cell_type": "code",
   "execution_count": 91,
   "metadata": {},
   "outputs": [
    {
     "data": {
      "text/plain": [
       "True"
      ]
     },
     "execution_count": 91,
     "metadata": {},
     "output_type": "execute_result"
    }
   ],
   "source": [
    "import datetime\n",
    "my_date = datetime.date(2019, 1, 9)\n",
    "Employee.is_workday(my_date)"
   ]
  },
  {
   "cell_type": "code",
   "execution_count": 36,
   "metadata": {},
   "outputs": [
    {
     "name": "stdout",
     "output_type": "stream",
     "text": [
      "--> Ayden Smith\n",
      "--> Peter Correa\n",
      "--> Anastasia Stravinsky\n",
      "--> Jamie Appleseed\n"
     ]
    }
   ],
   "source": [
    "direct_reports = [Employee_Ayden, Employee_Peter]\n",
    "Steve_Jobs.employees = direct_reports\n",
    "Steve_Jobs.add_employee(Developer_Anastasia)\n",
    "\n",
    "Steve_Jobs.add_employee(Developer_Michael)\n",
    "Steve_Jobs.remove_employee(Developer_Michael)\n",
    "Steve_Jobs.print_employees()"
   ]
  },
  {
   "cell_type": "code",
   "execution_count": 35,
   "metadata": {},
   "outputs": [
    {
     "name": "stdout",
     "output_type": "stream",
     "text": [
      "True\n",
      "False\n",
      "True\n",
      "False\n"
     ]
    }
   ],
   "source": [
    "print(isinstance(Steve_Jobs, Employee))\n",
    "print(isinstance(Steve_Jobs, Developer))\n",
    "print(issubclass(Manager, Employee))\n",
    "print(issubclass(Manager, Developer))"
   ]
  },
  {
   "cell_type": "code",
   "execution_count": 9,
   "metadata": {},
   "outputs": [
    {
     "name": "stdout",
     "output_type": "stream",
     "text": [
      "Steve Jobs - steve@apple.com\n"
     ]
    },
    {
     "data": {
      "text/plain": [
       "Employee('Steve', 'Jobs', 'Cupertino', 'steve@apple.com')"
      ]
     },
     "execution_count": 9,
     "metadata": {},
     "output_type": "execute_result"
    }
   ],
   "source": [
    "print(Steve_Jobs)\n",
    "Steve_Jobs"
   ]
  },
  {
   "cell_type": "code",
   "execution_count": 26,
   "metadata": {},
   "outputs": [
    {
     "name": "stdout",
     "output_type": "stream",
     "text": [
      "10\n",
      "5.0\n",
      "20\n",
      "10.0\n"
     ]
    }
   ],
   "source": [
    "class Circle:\n",
    "    def __init__(self, diameter):\n",
    "        self.diameter = diameter\n",
    "        \n",
    "    @property                         #This decorator alters the function to act as an attribute, however we can't set it\n",
    "    def radius(self):                 #Properties allows access to the __setter__, __getter__, and __del__ methods of an attribute\n",
    "        return self.diameter / 2\n",
    "    \n",
    "    @radius.setter\n",
    "    def radius(self, newRadius):   #This setter method allows us to set the property radius, func name must match from property\n",
    "        self.diameter = newRadius * 2\n",
    "        \n",
    "someCircle = Circle(10)\n",
    "print(someCircle.diameter)\n",
    "print(someCircle.radius)\n",
    "someCircle.radius = 10\n",
    "print(someCircle.diameter)\n",
    "print(someCircle.radius)"
   ]
  },
  {
   "cell_type": "code",
   "execution_count": 39,
   "metadata": {},
   "outputs": [],
   "source": [
    "class Rectangle:\n",
    "    def __init__(self, width, length):\n",
    "        self.width = width\n",
    "        self.length = length\n",
    "        \n",
    "    @property\n",
    "    def area(self):\n",
    "        return self.width*self.length\n",
    "    \n",
    "    @property\n",
    "    def perimeter(self):\n",
    "        return (self.width*2) + (self.length*2)"
   ]
  },
  {
   "cell_type": "code",
   "execution_count": 41,
   "metadata": {},
   "outputs": [
    {
     "data": {
      "text/plain": [
       "14"
      ]
     },
     "execution_count": 41,
     "metadata": {},
     "output_type": "execute_result"
    }
   ],
   "source": [
    "square = Rectangle(2, 5)\n",
    "square.perimeter"
   ]
  },
  {
   "cell_type": "code",
   "execution_count": null,
   "metadata": {},
   "outputs": [],
   "source": []
  }
 ],
 "metadata": {
  "kernelspec": {
   "display_name": "Python 3",
   "language": "python",
   "name": "python3"
  },
  "language_info": {
   "codemirror_mode": {
    "name": "ipython",
    "version": 3
   },
   "file_extension": ".py",
   "mimetype": "text/x-python",
   "name": "python",
   "nbconvert_exporter": "python",
   "pygments_lexer": "ipython3",
   "version": "3.7.1"
  }
 },
 "nbformat": 4,
 "nbformat_minor": 2
}
