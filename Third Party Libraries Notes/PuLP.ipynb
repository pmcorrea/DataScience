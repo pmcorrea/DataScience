{
 "cells": [
  {
   "cell_type": "code",
   "execution_count": 3,
   "metadata": {},
   "outputs": [
    {
     "ename": "ModuleNotFoundError",
     "evalue": "No module named 'pulp'",
     "output_type": "error",
     "traceback": [
      "\u001b[0;31m---------------------------------------------------------------------------\u001b[0m",
      "\u001b[0;31mModuleNotFoundError\u001b[0m                       Traceback (most recent call last)",
      "\u001b[0;32m<ipython-input-3-9badda338bdb>\u001b[0m in \u001b[0;36m<module>\u001b[0;34m()\u001b[0m\n\u001b[0;32m----> 1\u001b[0;31m \u001b[0;32mimport\u001b[0m \u001b[0mpulp\u001b[0m\u001b[0;34m\u001b[0m\u001b[0;34m\u001b[0m\u001b[0m\n\u001b[0m\u001b[1;32m      2\u001b[0m \u001b[0;34m\u001b[0m\u001b[0m\n\u001b[1;32m      3\u001b[0m \u001b[0;31m# Initialize Class\u001b[0m\u001b[0;34m\u001b[0m\u001b[0;34m\u001b[0m\u001b[0;34m\u001b[0m\u001b[0m\n\u001b[1;32m      4\u001b[0m \u001b[0mmodel\u001b[0m \u001b[0;34m=\u001b[0m \u001b[0mLpProblem\u001b[0m\u001b[0;34m(\u001b[0m\u001b[0;34m\"Maximize Glass Co. Profits\"\u001b[0m\u001b[0;34m,\u001b[0m \u001b[0mLpMaximize\u001b[0m\u001b[0;34m)\u001b[0m\u001b[0;34m\u001b[0m\u001b[0;34m\u001b[0m\u001b[0m\n\u001b[1;32m      5\u001b[0m \u001b[0;34m\u001b[0m\u001b[0m\n",
      "\u001b[0;31mModuleNotFoundError\u001b[0m: No module named 'pulp'"
     ]
    }
   ],
   "source": [
    "import pulp\n",
    "\n",
    "# Initialize Class\n",
    "model = LpProblem(\"Maximize Glass Co. Profits\", LpMaximize)\n",
    "\n",
    "# Define Decision Variables\n",
    "wine = LpVariable('Wine', lowBound=0, upBound=None, cat='Integer')\n",
    "beer = LpVariable('Beer', lowBound=0, upBound=None, cat='Integer')\n",
    "\n",
    "# Define Objective Function\n",
    "model += 5 * wine + 4.5 * beer\n",
    "\n",
    "# Define Constraints\n",
    "model += 6 * wine + 5 * beer <= 60\n",
    "model += 10 * wine + 20 * beer <= 150\n",
    "model += wine <= 6\n",
    "\n",
    "# Solve Model\n",
    "model.solve()\n",
    "print(\"Produce {} batches of wine glasses\".format(wine.varValue))\n",
    "print(\"Produce {} batches of beer glasses\".format(beer.varValue))"
   ]
  },
  {
   "cell_type": "code",
   "execution_count": null,
   "metadata": {},
   "outputs": [],
   "source": [
    "# Using lpSum to create many variables\n",
    "\n",
    "model += 20*A + 40*B + 33*C + 14*D + 6*E + 60*F\n",
    "# The above objective function is equivilant to the following code \n",
    "\n",
    "var_list = [20*A, 40*B, 33*C, 14*D, 6*E, 60*F]\n",
    "model += lpSum(var_list)\n",
    "\n",
    "# Using lpSum with List Comprehensions\n",
    "\n",
    "caketypes = [\"A\", \"B\", \"C\"]\n",
    "profit_by_caketypes = [ \"A\" :10, \"B\" :20, \"C\" :30]\n",
    "var_dict = [\"A\" :A, \"B\" :B, \"C\" :C]\n",
    "\n",
    "model += lpSum([profit_by_caketypes[num] * var_dict[num] \n",
    "                for num in caketypes])"
   ]
  },
  {
   "cell_type": "code",
   "execution_count": 6,
   "metadata": {},
   "outputs": [
    {
     "ename": "NameError",
     "evalue": "name 'LpVariable' is not defined",
     "output_type": "error",
     "traceback": [
      "\u001b[0;31m---------------------------------------------------------------------------\u001b[0m",
      "\u001b[0;31mNameError\u001b[0m                                 Traceback (most recent call last)",
      "\u001b[0;32m<ipython-input-6-668e2c628c88>\u001b[0m in \u001b[0;36m<module>\u001b[0;34m()\u001b[0m\n\u001b[1;32m      5\u001b[0m \u001b[0mwarehouses\u001b[0m \u001b[0;34m=\u001b[0m \u001b[0;34m[\u001b[0m\u001b[0;34m'New York'\u001b[0m\u001b[0;34m,\u001b[0m \u001b[0;34m'Atlanta'\u001b[0m\u001b[0;34m]\u001b[0m\u001b[0;34m\u001b[0m\u001b[0;34m\u001b[0m\u001b[0m\n\u001b[1;32m      6\u001b[0m \u001b[0;34m\u001b[0m\u001b[0m\n\u001b[0;32m----> 7\u001b[0;31m transportation = LpVariable.dicts('route', \n\u001b[0m\u001b[1;32m      8\u001b[0m                                  \u001b[0;34m[\u001b[0m\u001b[0;34m(\u001b[0m\u001b[0mw\u001b[0m\u001b[0;34m,\u001b[0m \u001b[0mc\u001b[0m\u001b[0;34m)\u001b[0m \u001b[0;32mfor\u001b[0m \u001b[0mw\u001b[0m \u001b[0;32min\u001b[0m \u001b[0mwarehouses\u001b[0m \u001b[0;32mfor\u001b[0m \u001b[0mc\u001b[0m \u001b[0;32min\u001b[0m \u001b[0mcustomers\u001b[0m\u001b[0;34m]\u001b[0m\u001b[0;34m,\u001b[0m\u001b[0;34m\u001b[0m\u001b[0;34m\u001b[0m\u001b[0m\n\u001b[1;32m      9\u001b[0m                                  \u001b[0mlowBound\u001b[0m \u001b[0;34m=\u001b[0m \u001b[0;36m0\u001b[0m\u001b[0;34m,\u001b[0m\u001b[0;34m\u001b[0m\u001b[0;34m\u001b[0m\u001b[0m\n",
      "\u001b[0;31mNameError\u001b[0m: name 'LpVariable' is not defined"
     ]
    }
   ],
   "source": [
    "# lpVariable Dictionary Funtion\n",
    "\n",
    "# Define decision variables\n",
    "customers = ['East', 'West', 'North', 'South']\n",
    "warehouses = ['New York', 'Atlanta']\n",
    "\n",
    "transportation = LpVariable.dicts('route', \n",
    "                                 [(w, c) for w in warehouses for c in customers], \n",
    "                                 lowBound = 0, \n",
    "                                 cat = 'Integer')\n",
    "\n",
    "# Define objective function\n",
    "model += lpSum([cost[(w, c)] * transport[(w, c)] #cost was a defined list\n",
    "                for w in warehouse for c in customers])"
   ]
  },
  {
   "cell_type": "code",
   "execution_count": null,
   "metadata": {},
   "outputs": [],
   "source": [
    "# Traveling Salesman Problem\n",
    "\n",
    "# Define Decision Variables\n",
    "x = LpVariable.dicts('X', [(c1, c2) for c1 in cities for c2 in cities], \n",
    "                     cat='Binary')\n",
    "u = LpVariable.dicts('U', [c1 for c1 in cities], \n",
    "                     lowBound=0, upBound=(n-1), cat='Integer')\n",
    "\n",
    "# Define Objective\n",
    "model += lpSum([dist.iloc[c1, c2] * x[(c1, c2)] \n",
    "                for c1 in cities for c2 in cities])\n",
    "\n",
    "# Define Constraints\n",
    "for c2 in cities:\n",
    "    model += lpSum([x[(c1, c2)] for c1 in cities]) == 1\n",
    "for c1 in cities:\n",
    "    model += lpSum([x[(c1, c2)] for c2 in cities]) == 1"
   ]
  }
 ],
 "metadata": {
  "kernelspec": {
   "display_name": "Python 3",
   "language": "python",
   "name": "python3"
  },
  "language_info": {
   "codemirror_mode": {
    "name": "ipython",
    "version": 3
   },
   "file_extension": ".py",
   "mimetype": "text/x-python",
   "name": "python",
   "nbconvert_exporter": "python",
   "pygments_lexer": "ipython3",
   "version": "3.6.8"
  }
 },
 "nbformat": 4,
 "nbformat_minor": 2
}
