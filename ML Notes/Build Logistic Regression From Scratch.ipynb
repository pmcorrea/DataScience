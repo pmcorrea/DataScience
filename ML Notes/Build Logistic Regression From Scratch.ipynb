{
 "cells": [
  {
   "cell_type": "code",
   "execution_count": 1,
   "metadata": {},
   "outputs": [
    {
     "name": "stdout",
     "output_type": "stream",
     "text": [
      "           malignant  benign\n",
      "malignant         57       7\n",
      "benign             2     105\n"
     ]
    }
   ],
   "source": [
    "from sklearn import datasets\n",
    "import pandas as pd \n",
    "import numpy as np\n",
    "from sklearn.model_selection import train_test_split\n",
    "from sklearn.metrics import confusion_matrix\n",
    "from sklearn.linear_model import LogisticRegression\n",
    "\n",
    "cancer = datasets.load_breast_cancer()\n",
    "cancer_df = pd.DataFrame(cancer.data, columns=cancer.feature_names)\n",
    "y = cancer.target\n",
    "\n",
    "X_train, X_test, y_train, y_test = train_test_split(cancer.data, y, test_size=0.3,random_state=21)\n",
    "logreg = LogisticRegression()\n",
    "logreg.fit(X_train, y_train)\n",
    "y_predict = logreg.predict(X_test)\n",
    "\n",
    "logreg_confmx = pd.DataFrame(confusion_matrix(y_test, y_predict), index=cancer.target_names, columns=cancer.target_names)\n",
    "print(logreg_confmx)"
   ]
  },
  {
   "cell_type": "code",
   "execution_count": 2,
   "metadata": {},
   "outputs": [
    {
     "data": {
      "text/plain": [
       "array([ 0.5,  0.5,  0.5,  0.5,  0.5,  0.5,  0.5,  0.5,  0.5,  0.5,  0.5,\n",
       "        0.5,  0.5,  0.5,  0.5,  0.5,  0.5,  0.5,  0.5,  0.5,  0.5,  0.5,\n",
       "        0.5,  0.5,  0.5,  0.5,  0.5,  0.5,  0.5,  0.5])"
      ]
     },
     "execution_count": 2,
     "metadata": {},
     "output_type": "execute_result"
    }
   ],
   "source": [
    "#Initialize Weights\n",
    "weights = []\n",
    "\n",
    "for i in range(0,30):\n",
    "    i = 0.5\n",
    "    weights += [i]\n",
    "    \n",
    "weights = np.array(weights)\n",
    "weights"
   ]
  },
  {
   "cell_type": "code",
   "execution_count": 3,
   "metadata": {},
   "outputs": [
    {
     "name": "stdout",
     "output_type": "stream",
     "text": [
      "[[  1.79900000e+01]\n",
      " [  1.03800000e+01]\n",
      " [  1.22800000e+02]\n",
      " [  1.00100000e+03]\n",
      " [  1.18400000e-01]\n",
      " [  2.77600000e-01]\n",
      " [  3.00100000e-01]\n",
      " [  1.47100000e-01]\n",
      " [  2.41900000e-01]\n",
      " [  7.87100000e-02]\n",
      " [  1.09500000e+00]\n",
      " [  9.05300000e-01]\n",
      " [  8.58900000e+00]\n",
      " [  1.53400000e+02]\n",
      " [  6.39900000e-03]\n",
      " [  4.90400000e-02]\n",
      " [  5.37300000e-02]\n",
      " [  1.58700000e-02]\n",
      " [  3.00300000e-02]\n",
      " [  6.19300000e-03]\n",
      " [  2.53800000e+01]\n",
      " [  1.73300000e+01]\n",
      " [  1.84600000e+02]\n",
      " [  2.01900000e+03]\n",
      " [  1.62200000e-01]\n",
      " [  6.65600000e-01]\n",
      " [  7.11900000e-01]\n",
      " [  2.65400000e-01]\n",
      " [  4.60100000e-01]\n",
      " [  1.18900000e-01]]\n"
     ]
    },
    {
     "data": {
      "text/plain": [
       "array([ 1783.089236])"
      ]
     },
     "execution_count": 3,
     "metadata": {},
     "output_type": "execute_result"
    }
   ],
   "source": [
    "#Dot product of weights and features\n",
    "features = cancer.data[0:1]\n",
    "features = features.reshape(30,-1)\n",
    "print(features)\n",
    "output = weights @ features\n",
    "output"
   ]
  },
  {
   "cell_type": "code",
   "execution_count": 4,
   "metadata": {},
   "outputs": [
    {
     "data": {
      "text/plain": [
       "array([ 1.])"
      ]
     },
     "execution_count": 4,
     "metadata": {},
     "output_type": "execute_result"
    }
   ],
   "source": [
    "import math \n",
    "def sigmoid(x):\n",
    "    return 1 /(1+(math.e**-x))\n",
    "\n",
    "sigmoid(output)"
   ]
  },
  {
   "cell_type": "code",
   "execution_count": 5,
   "metadata": {
    "collapsed": true
   },
   "outputs": [],
   "source": [
    "def cost_function(features, labels, weights):\n",
    "    '''\n",
    "    Using Mean Absolute Error\n",
    "\n",
    "    Features:(100,3)\n",
    "    Labels: (100,1)\n",
    "    Weights:(3,1)\n",
    "    Returns 1D matrix of predictions\n",
    "    Cost = ( log(predictions) + (1-labels)*log(1-predictions) ) / len(labels)\n",
    "    '''\n",
    "    observations = len(labels)\n",
    "\n",
    "    predictions = predict(features, weights)\n",
    "\n",
    "    #Take the error when label=1\n",
    "    class1_cost = -labels*np.log(predictions)\n",
    "\n",
    "    #Take the error when label=0\n",
    "    class2_cost = (1-labels)*np.log(1-predictions)\n",
    "\n",
    "    #Take the sum of both costs\n",
    "    cost = class1_cost - class2_cost\n",
    "\n",
    "    #Take the average cost\n",
    "    cost = cost.sum()/observations\n",
    "\n",
    "    return cost"
   ]
  },
  {
   "cell_type": "code",
   "execution_count": null,
   "metadata": {},
   "outputs": [],
   "source": []
  }
 ],
 "metadata": {
  "kernelspec": {
   "display_name": "Python 3",
   "language": "python",
   "name": "python3"
  },
  "language_info": {
   "codemirror_mode": {
    "name": "ipython",
    "version": 3
   },
   "file_extension": ".py",
   "mimetype": "text/x-python",
   "name": "python",
   "nbconvert_exporter": "python",
   "pygments_lexer": "ipython3",
   "version": "3.6.3"
  }
 },
 "nbformat": 4,
 "nbformat_minor": 2
}
