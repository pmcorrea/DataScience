{
 "cells": [
  {
   "cell_type": "code",
   "execution_count": null,
   "metadata": {},
   "outputs": [],
   "source": [
    "# Drop any records with NULL values\n",
    "df = df.dropna()\n",
    "# drop records if both LISTPRICE and SALESCLOSEPRICE are NULL\n",
    "df = df.dropna(how='all', subset['LISTPRICE', 'SALESCLOSEPRICE '])\n",
    "# Drop records where at least two columns have NULL values\n",
    "df = df.dropna(thresh=2)\n",
    "\n",
    "# Entire DataFrame\n",
    "df.dropDuplicates()\n",
    "# Check only a column list\n",
    "df.dropDuplicates(['streetaddress'])\n",
    "\n",
    "# Drop columns from list using '*'\n",
    "cols_to_drop = ['STREETNUMBERNUMERIC', 'LOTSIZEDIMENSIONS']\n",
    "df = df.drop(*cols_to_drop)"
   ]
  }
 ],
 "metadata": {
  "kernelspec": {
   "display_name": "Python 3",
   "language": "python",
   "name": "python3"
  },
  "language_info": {
   "codemirror_mode": {
    "name": "ipython",
    "version": 3
   },
   "file_extension": ".py",
   "mimetype": "text/x-python",
   "name": "python",
   "nbconvert_exporter": "python",
   "pygments_lexer": "ipython3",
   "version": "3.6.8"
  }
 },
 "nbformat": 4,
 "nbformat_minor": 2
}
