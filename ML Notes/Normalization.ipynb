{
 "cells": [
  {
   "cell_type": "markdown",
   "metadata": {},
   "source": [
    "# Normalization Methods"
   ]
  },
  {
   "cell_type": "code",
   "execution_count": null,
   "metadata": {
    "collapsed": true
   },
   "outputs": [],
   "source": [
    "#Standardization: Subtract the mean and divide byb the variance \n",
    "#    -All features center around 0 and have variance 1\n",
    "    \n",
    "#Subtract the minimum and divide by the range \n",
    "#    -Minimum 0, maximum 1\n",
    "\n",
    "#Other incluse scaling between -1 and 1\n",
    "\n",
    "from sklearn.preprocessing import scale\n",
    "X_scaled = scale(X)"
   ]
  }
 ],
 "metadata": {
  "kernelspec": {
   "display_name": "Python 3",
   "language": "python",
   "name": "python3"
  },
  "language_info": {
   "codemirror_mode": {
    "name": "ipython",
    "version": 3
   },
   "file_extension": ".py",
   "mimetype": "text/x-python",
   "name": "python",
   "nbconvert_exporter": "python",
   "pygments_lexer": "ipython3",
   "version": "3.6.3"
  }
 },
 "nbformat": 4,
 "nbformat_minor": 2
}
